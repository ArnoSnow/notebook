{
 "cells": [
  {
   "cell_type": "markdown",
   "id": "72eb597f-b880-4bad-ab5c-7cd3b9eb8bf8",
   "metadata": {},
   "source": [
    "### （额外）异动归因"
   ]
  },
  {
   "cell_type": "markdown",
   "id": "7fea44b4-95ef-4799-a91a-58ec26432945",
   "metadata": {},
   "source": [
    "约定下数值 结算量 =Settled Number = SE\n",
    "\n",
    "结算单包收入 = package income = pi 结算单包成本 = package cost = pc 结算单包利润 = package profit = pr\n",
    "\n",
    "领取率 = lqrate = lqr 领取单包成本 = lqpc 领取单包成本 * 领取率 = 结算单包成本"
   ]
  },
  {
   "cell_type": "code",
   "execution_count": 3,
   "id": "c2848759-cb53-4ba0-a1c8-2f6aec792fe2",
   "metadata": {},
   "outputs": [
    {
     "data": {
      "text/plain": [
       "1.791759469228055"
      ]
     },
     "execution_count": 3,
     "metadata": {},
     "output_type": "execute_result"
    }
   ],
   "source": [
    "import math\n",
    "math.log(6)"
   ]
  },
  {
   "cell_type": "code",
   "execution_count": 5,
   "id": "6773bfd8-e514-4365-8a17-35dff9056a9b",
   "metadata": {},
   "outputs": [
    {
     "data": {
      "text/plain": [
       "False"
      ]
     },
     "execution_count": 5,
     "metadata": {},
     "output_type": "execute_result"
    }
   ],
   "source": [
    "# 公式一 总收入 = 结算量 * 单包利润 \n",
    "Y1 = SE1 * pr1\n",
    "YO = SE0 * pr0\n",
    "\n",
    "# 拆解公式 因子拆解乘法公式拆解 \n",
    "# 为了实现因子之间的互相减去 所以才会用 Y1/Y0  来推演\n",
    "import math\n",
    "def ln(x):\n",
    "    return math.log(x) \n",
    "\n",
    "Y1 = 100\n",
    "Y0 = 90\n",
    "\n",
    "SE1 = 25\n",
    "SE0 = 30\n",
    "\n",
    "pr1 = 4\n",
    "pr0 = 3\n",
    "\n",
    "Y1/Y0  == (  SE1 * pr1 ) /   ( SE0 * pr0 )\n",
    "\n",
    "ln(Y1/Y0 ) ==  ln( (SE1 * pr1)  /  ( SE0 * pr0) )\n",
    "\n",
    "ln(Y1) - ln(Y0) == ln(SE1 * pr1) -   ln(SE0 * pr0)\n",
    "\n",
    "ln(Y1) - ln(Y0) == ln(SE1) + ln(pr1) - ln(SE0) - ln(pr0)\n",
    "\n",
    "1 == ( ln(SE1) - ln(SE0) ) / ( ln(Y1) - ln(Y0) )   +    ( ln(pr1) - ln(pr0) ) /  ( ln(Y1) - ln(Y0)  ) \n",
    "\n",
    "(Y1 - Y0) / Y0 == (Y1 - Y0) /  (ln(Y1) - ln(Y0) )    *  ( ln(SE1) - ln(SE0) ) / Y0     +  (Y1 - YO) /  (ln(Y1) - ln(Y0) )    *  ( ln(pr1) - ln(pr0) ) / Y0\n",
    "\n",
    "# 小数点误差不用在意 所以一般会说是近似相等"
   ]
  },
  {
   "cell_type": "code",
   "execution_count": null,
   "id": "09fbd899-f1cd-4860-99e7-e015727561e1",
   "metadata": {},
   "outputs": [],
   "source": [
    "# 公式二 总收入 = 结算量 * （结算单包收入 - 领取率 * 领取单包成本）\n",
    "Y1 = SE1 * (pi1 - lqr1* lqpc1) = SE1 * pi1 -  SE1* lqr1* lqpc1\n",
    "Y0 = SE0 * (pi0 - lqr0* lqpc0) = SE0 * pi0 -  SE0* lqr0* lqpc0\n",
    "\n",
    "Y1-YO / YO  = ( SE1 * pi1 -  SE1* lqr1* lqpc1  -   SE0 * pi0 +  SE0* lqr0* lqpc0 )  /  YO\n",
    "Y1-YO / YO  = (SE1 * pi1 - SE0 * pi0 )/  YO   -  (SE1* lqr1* lqpc1  -  SE0* lqr0* lqpc0 ) /  YO\n",
    "\n",
    "# 设 SE * pi = x  = 结算量 * 结算单包收入 = 总收入\n",
    "\n",
    "x1/x0 = SE1 * pi1 / SE0 * pi0\n",
    "ln(x1)-ln(x0) = ln(SE1 * pi1) -  ln(SE0 * pi0)\n",
    "ln(x1)-ln(x0) = ln(SE1) -ln(SE0) + ln(pi1) -ln(pi0)\n",
    "1 = ln(SE1) -ln(SE0) + ln(pi1) -ln(pi0) /  ln(x1)-ln(x0)\n",
    "\n",
    "x1 - x0 = ( ln(SE1) -ln(SE0) )  * (x1 - x0) / (ln(x1)-ln(x0) ) + (ln(pi1) -ln(pi0))  * (x1 - x0) / (ln(x1)-ln(x0) ) \n",
    "\n",
    "\n",
    "# 设 SE* lqr* lqpc =  z = 结算量 *领取率 * 领取的单包成本 = 总成本\n",
    "z1/z0 = SE1* lqr1* lqpc1 / SE0* lqr0* lqpc0\n",
    "ln(z1)-ln(z0) = ln(SE1* lqr1* lqpc1) - ln(SE0* lqr0* lqpc0 )\n",
    "ln(z1)-ln(z0) =  ln(SE1) -ln(SE0) + ln(lqr1) -ln(lqr0) + ln(lqpc1) -ln(lqpc0)\n",
    "1 = ln(SE1) -ln(SE0) + ln(lqr1) -ln(lqr0) + ln(lqpc1) -ln(lqpc0)    /   ln(z1)-ln(z0)\n",
    "z1 - z0 = ( ln(SE1)  -ln(SE0) ) *(z1 - z0) / (ln(z1)-ln(z0))  +  \n",
    "          (ln(lqr1) -ln(lqr0) ) *(z1 - z0) / (ln(z1)-ln(z0))  +   \n",
    "          (ln(lqpc1)-ln(lqpc0)) *(z1 - z0) / (ln(z1)-ln(z0))\n",
    "        \n",
    "        \n",
    "# 算出的值带入进去原公式\n",
    "Y1-YO / YO = ( (ln(SE1) -ln(SE0)) * (x1 - x0) / (ln(x1)-ln(x0) )  + ( ln(pi1) -ln(pi0) ) * (x1 - x0) / (ln(x1)-ln(x0) ) ) /  Y0 \n",
    "-(( ln(SE1)  -ln(SE0) ) *(z1 - z0) / (ln(z1)-ln(z0))  +  \n",
    "  (ln(lqr1) -ln(lqr0) ) *(z1 - z0) / (ln(z1)-ln(z0))  +   \n",
    "  (ln(lqpc1)-ln(lqpc0)) *(z1 - z0) / (ln(z1)-ln(z0))     ) /  Y0\n",
    "\n",
    "# 方便理解 我设 a = (x1 - x0) / ln(x1)-ln(x0)  b = (z1 - z0) /ln(z1)-ln(z0)\n",
    "Y1-YO / YO  = ( (ln(SE1) -ln(SE0)) * a + ( ln(pi1) -ln(pi0) ) * a ) /  Y0  -\n",
    "             (\n",
    "              ( ln(SE1)  -ln(SE0) ) * b  +  \n",
    "              (ln(lqr1) -ln(lqr0) ) * b  +   \n",
    "              (ln(lqpc1)-ln(lqpc0)) * b    \n",
    "             ) /  Y0\n",
    "                \n",
    "\n",
    "                \n",
    "Y1-Y0 / Y0 = (  ln(SE1) -ln(SE0)     ) * (a-b)  /Y0  +  \n",
    "             (  ln(pi1) -ln(pi0)     ) * a      /Y0  - \n",
    "             (  ln(lqr1) -ln(lqr0)   ) * b      /Y0  -  \n",
    "             (  ln(lqpc1) -ln(lqpc0) ) * b      /Y0 \n",
    "    \n",
    "          "
   ]
  },
  {
   "cell_type": "code",
   "execution_count": null,
   "id": "df992b11-77b5-4a89-be9e-b037b20e2e82",
   "metadata": {},
   "outputs": [],
   "source": [
    "# 带入实际数据检验\n",
    "import math\n",
    "def ln(x):\n",
    "    return math.log(x) \n",
    "\n",
    "SE1 = 250\n",
    "SE0 = 300\n",
    "\n",
    "pi1 = 5.5\n",
    "pi0 = 7.5\n",
    "\n",
    "lqr1 = 0.65\n",
    "lqr0 = 0.45\n",
    "\n",
    "lqpc1 = 13\n",
    "lqpc0 = 14\n",
    "\n",
    "\n",
    "Y1 = SE1 * pi1 - SE1 * lqr1 * lqpc1\n",
    "Y0 = SE0 * pi0 - SE0 * lqr0 * lqpc0\n",
    "\n",
    "x1 = SE1 * pi1\n",
    "x0 = SE0 * pi0\n",
    "z1 = SE1* lqr1* lqpc1\n",
    "z0 = SE0* lqr0* lqpc0 \n",
    "a = (x1 - x0) / (ln(x1)-ln(x0))\n",
    "b = (z1 - z0) / (ln(z1)-ln(z0))\n",
    "print(  (Y1-Y0) / Y0)\n",
    "print((  ln(SE1) -ln(SE0)     ) * (a-b)  /Y0  +  (  ln(pi1) -ln(pi0)     ) * a      /Y0  - (  ln(lqr1) -ln(lqr0)   ) * b      /Y0  -   (  ln(lqpc1) -ln(lqpc0) ) * b      /Y0 )"
   ]
  },
  {
   "cell_type": "code",
   "execution_count": null,
   "id": "27db8012-5475-42bd-a397-99e601ecdaae",
   "metadata": {},
   "outputs": [],
   "source": [
    "\n",
    "\n",
    "\n",
    "# a1 = 96\n",
    "# a2 = 8\n",
    "# a3 = 7\n",
    "# a4 = 10\n",
    "\n",
    "\n",
    "# b1 = 80\n",
    "# b2 = 6\n",
    "# b3 = 5\n",
    "# b4 = 20\n",
    "\n",
    "# `\n",
    "\n",
    "\n",
    "# a = a1*a2*a3*a4\n",
    "# b = b1*b2*b3*b4\n",
    "\n",
    "# ln(a/b) == ln(   (a1*a2*a3*a4  )/( b1*b2*b3*b4 )    ) \n",
    "# ln(a) - ln(b) == ln(a1*a2*a3*a4  ) - ln( b1*b2*b3*b4 ) \n",
    "# ln(a) - ln(b) == ln(a1)+ln(a2)+ln(a3)+ln(a4) - ln(b1)- ln(b2)- ln(b3)- ln(b4)\n",
    "# (ln(a1)+ln(a2)+ln(a3)+ln(a4) - ln(b1)- ln(b2)- ln(b3)- ln(b4))   /   ( ln(a) - ln(b) )\n",
    "\n",
    "\n",
    "y1 = 100\n",
    "y0 = 90\n",
    "\n",
    "(y1-y0) / y0 "
   ]
  },
  {
   "cell_type": "code",
   "execution_count": null,
   "id": "0bd3bcfa-1a23-438f-9833-f2c5c08f6351",
   "metadata": {},
   "outputs": [],
   "source": [
    "(y1-y0) / (ln(y1)-ln(y0)) / y0 * (ln(25)-ln(30))   + (y1-y0) / (ln(y1)-ln(y0)) / y0  *  (ln(4)-ln(3))"
   ]
  },
  {
   "cell_type": "code",
   "execution_count": null,
   "id": "d532e8fa-d721-48f3-bc39-5fafb8c3a36f",
   "metadata": {},
   "outputs": [],
   "source": [
    " ln(a1*a2*a3*a4  )  == ln(a1)+ln(a2)+ln(a3)+ln(a4)"
   ]
  }
 ],
 "metadata": {
  "kernelspec": {
   "display_name": "Python 3 (ipykernel)",
   "language": "python",
   "name": "python3"
  },
  "language_info": {
   "codemirror_mode": {
    "name": "ipython",
    "version": 3
   },
   "file_extension": ".py",
   "mimetype": "text/x-python",
   "name": "python",
   "nbconvert_exporter": "python",
   "pygments_lexer": "ipython3",
   "version": "3.10.16"
  }
 },
 "nbformat": 4,
 "nbformat_minor": 5
}
