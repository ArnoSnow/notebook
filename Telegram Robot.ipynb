{
 "cells": [
  {
   "cell_type": "markdown",
   "id": "b57783b0",
   "metadata": {},
   "source": [
    "### telegram 机器人简介"
   ]
  },
  {
   "cell_type": "markdown",
   "id": "92ae71c3",
   "metadata": {},
   "source": [
    "###### 一、BotFather"
   ]
  },
  {
   "cell_type": "markdown",
   "id": "3ca410b8",
   "metadata": {},
   "source": [
    "1. Telegram 中 BotFather 是创建和管理 Telegram 机器人的官方工具。                    \n",
    "2. 通过search找到BotFather，点击进入聊天界面，聊天框中输入 / 可以唤起命令框              "
   ]
  },
  {
   "cell_type": "markdown",
   "id": "88502012",
   "metadata": {},
   "source": [
    "###### 二、常见控制命令列表  "
   ]
  },
  {
   "cell_type": "markdown",
   "id": "59f7ec4e",
   "metadata": {},
   "source": [
    "（一）新建删除管理机器人\n",
    "1. \\start： 启动 BotFather 会话          \n",
    "2. \\newbot：创建一个新的机器人，根据提示提供机器人名称 和用户名称          \n",
    "（1）机器人名称          \n",
    "显示位置：打开的聊天框上方展示的用户昵称         \n",
    "BotFather提示：Please choose a name for your bot       \n",
    "命名限制：没有不重复命名要求 没有格式要求        \n",
    "（2）b.用户名称         \n",
    "显示位置：点击头像后展开的用户详情页中@的部分 即为tg中的唯一身份识别      \n",
    "BotFather提示：Now let's choose a username for your bot. It must end in `bot`. Like this, for example: TetrisBot or tetris_bot.       \n",
    "命名限制：唯一身份识别，故要求不重复命名；必须以bot（不区分大小写）结尾  \n",
    "指定时使用：**对于单个机器人的控制命令都需提供机器人的 用户名称**  格式为：@Interaction_test_bot    \n",
    "3. /deletebot：指定一名机器人删除        \n",
    "4. /mybots：展示机器人列表 并提供可供点击选择的交互界面 完成下列命令控制符 改机器人名称、改头像、获取API接口等一系列操作          \n",
    "（二）机器人信息自定义\n",
    "1. /setname：     指定一名机器人更改机器人名称，注意并非改变用户名称\n",
    "2. /setdescription：指定一名机器人更改功能描述，展示位置为聊天界面的正中央，打开即可见\n",
    "3. /setabouttext：  指定一名机器人更改机器人的简介文字，展示位置为点击头像打开的用户详情页@用户名称的下面一行，并且如果你分享这个机器人 也会跟随展示出来 分享地址格式为：https://t.me/Interaction_test_bot       \n",
    "4. /setuserpic：   指定一名机器人更改机器人的头像，展示位置为上方头像和用户详情页头像        \n",
    "（三）配置机器人的命令列表\n",
    "\n",
    "@Interaction_test_bot"
   ]
  },
  {
   "cell_type": "markdown",
   "id": "ef920ec8",
   "metadata": {},
   "source": [
    "### telegram 机器人 与python 编写语句定义机器人功能"
   ]
  },
  {
   "cell_type": "markdown",
   "id": "4eebf97a",
   "metadata": {},
   "source": [
    "###### 一、安装tg库"
   ]
  },
  {
   "cell_type": "code",
   "execution_count": null,
   "id": "30884694",
   "metadata": {},
   "outputs": [],
   "source": [
    "!pip install flask,python-telegram-bot"
   ]
  },
  {
   "cell_type": "markdown",
   "id": "678c8a22",
   "metadata": {},
   "source": [
    "###### 二、简易小功能"
   ]
  },
  {
   "cell_type": "code",
   "execution_count": null,
   "id": "d5b8e564",
   "metadata": {},
   "outputs": [],
   "source": [
    "from flask import Flask, request\n",
    "from telegram import Update, Bot\n",
    "from telegram.ext import Application, CommandHandler, ContextTypes\n",
    "import os\n",
    "\n",
    "app = Flask(__name__)\n",
    "\n",
    "# 从环境变量获取 Token\n",
    "# TOKEN = os.getenv('7375099855:AAFjk_ZhTlReRo7VzJVQop1byI08VEqWGsc')\n",
    "bot = Bot('7375099855:AAFjk_ZhTlReRo7VzJVQop1byI08VEqWGsc')\n",
    "TOKEN = '7375099855:AAFjk_ZhTlReRo7VzJVQop1byI08VEqWGsc'\n",
    "async def start(update: Update, context: ContextTypes.DEFAULT_TYPE) -> None:\n",
    "    await update.message.reply_text('Hello! Welcome to the bot. Type /help to see available commands.')\n",
    "\n",
    "# 初始化应用程序\n",
    "application = Application.builder().token(TOKEN).build()\n",
    "application.add_handler(CommandHandler('start', start))\n",
    "\n",
    "@app.route('/webhook', methods=['POST'])\n",
    "def webhook():\n",
    "    if request.method == \"POST\":\n",
    "        update = Update.de_json(request.get_json(force=True), bot)\n",
    "        application.update_queue.put(update)\n",
    "        return 'ok'\n",
    "\n",
    "if __name__ == '__main__':\n",
    "    app.run(port=5000)"
   ]
  },
  {
   "cell_type": "markdown",
   "id": "78840906",
   "metadata": {},
   "source": [
    "###### 本地测试环境搭建\n",
    "命令行运行如下代码 运行后将占据一个命令行窗口 且请求将被命令行记录"
   ]
  },
  {
   "cell_type": "code",
   "execution_count": null,
   "id": "700af5d4",
   "metadata": {},
   "outputs": [],
   "source": [
    "# 1. 编写简单功能用来接收请求 api获取方式参看上文\n",
    "Python D:\\1-script\\3-PYTHON\\data存储jupyter用的个文件类型数据\\ngrok-v3-stable-windows-amd64\\bot.py\n",
    "    \n",
    "# 2. 内部网络映射到公告网络 使用三方ngrok协助\n",
    "cd C:\\Users\\yaoyan\\Downloads\\ngrok-v3-stable-windows-amd64 #未将此程序放置常用路径 需给“change directory”( cd )改运行主体\n",
    "ngrok http 5000 # 无需给出ip地址，只需给出端口 成功后请求生成的网址可返回代码内部信息 \n",
    "# ngrok config add-authtoken 2jm1VXZpMFq7aAIA9BZYjScCthM_3Z9aZeADkGLoMkyACQYYb 初次运行请先在https://dashboard.ngrok.com/get-started/setup/windows your authtoken 中获取免费的秘钥 \n",
    "# 3. 采取curl 请求提交表单为 webhook 使用 \n",
    "# 默认不采用你开启的代理比如clash for windows 必须代码中指明代理信息 ab指定方式二选一\n",
    "\n",
    "# 3.1.a 导致整个窗口都受到此句影响 增加一个系统变量配置 如果改关键字set为 setx 则对任何新窗口都生效 类似在windows中直接增加系统变量\n",
    "set http_proxy=http://127.0.0.1:7890 \n",
    "curl -F \"url=（ngrok生成的地址）/webhook\" https://api.telegram.org/bot7375099855:AAFjk_ZhTlReRo7VzJVQop1byI08VEqWGsc/setWebhook\n",
    "        \n",
    "# 3.1.b 或者直接在curl语句中指明 这种写法只对这个语句有效\n",
    "curl -x http://127.0.0.1:7890 -F \"url=（ngrok生成的地址）/webhook\" https://api.telegram.org/bot7375099855:AAFjk_ZhTlReRo7VzJVQop1byI08VEqWGsc/setWebhook\n",
    "\n",
    "# 额外补充获取 http_proxy 代理信息的方式\n",
    "# 使用clash for windows的话，在常规页可查看端口，在设置中查看静态主机ip地址\n"
   ]
  },
  {
   "cell_type": "code",
   "execution_count": null,
   "id": "37a98758",
   "metadata": {},
   "outputs": [],
   "source": [
    "set https_proxy=http://127.0.0.1:7890 \n",
    "curl--tlsv1.2 -F \"url=https://5428-2409-8a1e-39c2-7d10-fc59-baa3-17e-9082.ngrok-free.app/webhook\" https://api.telegram.org/bot7375099855:AAFjk_ZhTlReRo7VzJVQop1byI08VEqWGsc/setWebhook"
   ]
  },
  {
   "cell_type": "code",
   "execution_count": null,
   "id": "13bc0e1c",
   "metadata": {},
   "outputs": [],
   "source": [
    "curl --tlsv1.2 -x http://127.0.0.1:7890 -F \"url=https://5428-2409-8a1e-39c2-7d10-fc59-baa3-17e-9082.ngrok-free.app/webhook\"  -v https://api.telegram.org/bot7375099855:AAFjk_ZhTlReRo7VzJVQop1byI08VEqWGsc/setWebhook"
   ]
  },
  {
   "cell_type": "code",
   "execution_count": null,
   "id": "b9b753d8",
   "metadata": {},
   "outputs": [],
   "source": [
    "curl --tlsv1.2 -x http://127.0.0.1:7890  -v https://api.telegram.org/bot7375099855:AAFjk_ZhTlReRo7VzJVQop1byI08VEqWGsc/getWebhookInfo"
   ]
  },
  {
   "cell_type": "code",
   "execution_count": null,
   "id": "8c1035a0",
   "metadata": {
    "scrolled": true
   },
   "outputs": [],
   "source": [
    "https://5428-2409-8a1e-39c2-7d10-fc59-baa3-17e-9082.ngrok-free.app"
   ]
  },
  {
   "cell_type": "code",
   "execution_count": null,
   "id": "4d506630",
   "metadata": {},
   "outputs": [],
   "source": [
    "curl -x http://127.0.0.1:7890 https://api.telegram.org/bot7375099855:AAFjk_ZhTlReRo7VzJVQop1byI08VEqWGsc/getMe"
   ]
  },
  {
   "cell_type": "code",
   "execution_count": null,
   "id": "35c53f17",
   "metadata": {},
   "outputs": [],
   "source": [
    "import requests\n",
    "response = requests.get(r'https://api.telegram.org/bot7375099855:AAFjk_ZhTlReRo7VzJVQop1byI08VEqWGsc/getUpdates')\n"
   ]
  },
  {
   "cell_type": "code",
   "execution_count": null,
   "id": "82c2889e",
   "metadata": {},
   "outputs": [],
   "source": [
    "import requests\n",
    "\n",
    "url = f\"https://api.telegram.org/bot7375099855:AAFjk_ZhTlReRo7VzJVQop1byI08VEqWGsc/setWebhook\"\n",
    "data = {\n",
    "    \"url\": \"https://5428-2409-8a1e-39c2-7d10-fc59-baa3-17e-9082.ngrok-free.app/webhook\"\n",
    "}\n",
    "# files = {\n",
    "#     \"certificate\": open(\"YOURPUBLIC.pem\", \"rb\")\n",
    "# }\n",
    "\n",
    "response = requests.post(url, data=data) #files=files\n",
    "print(response.json())"
   ]
  },
  {
   "cell_type": "code",
   "execution_count": null,
   "id": "bb8029fe",
   "metadata": {},
   "outputs": [],
   "source": [
    "import logging #日志库\n",
    "from telegram.ext import ApplicationBuilder # 核心类 Application 的创建对象，Application 负责从 获取更新的队列中 排序并传送去对的处理对象\n",
    "from telegram import Update # 来自 Telegram 本身的所有信息和数据的对象（如消息、发出命令的用户等）\n",
    "from telegram.ext import filters, MessageHandler,  CommandHandler, ContextTypes\n",
    "\n",
    "\n",
    "# 常量信息的供给\n",
    "TOKEN = \"7375099855:AAFjk_ZhTlReRo7VzJVQop1byI08VEqWGsc\"\n",
    "proxy_url = r\"http://127.0.0.1:7890\"\n",
    "\n",
    "# 日志等级设置\n",
    "logging.basicConfig(\n",
    "    format='%(asctime)s - %(name)s - %(levelname)s - %(message)s',\n",
    "    level=logging.INFO\n",
    ")\n",
    "\n",
    "# 创建app  ApplicationBuilder().token(TOKEN).build() 即可建立 当然如果需用代理 请采取下面的代码\n",
    "# application  = ApplicationBuilder().token(TOKEN).proxy(proxy_url).get_updates_proxy(proxy_url).build() \n",
    "\n",
    "# app本身不处理任何事情，增加功能，需用两个组件实现，一定义协程函数来处理特定类型更新\n",
    "async def start(update: Update, context: ContextTypes.DEFAULT_TYPE):\n",
    "    await context.bot.send_message(\n",
    "        chat_id=update.effective_chat.id,\n",
    "        text=\"I'm a bot, please talk to me!\"\n",
    "    )\n",
    "    \n",
    "if __name__ == '__main__':\n",
    "    application  = ApplicationBuilder().token(TOKEN).proxy(proxy_url).get_updates_proxy(proxy_url).build() \n",
    "    start_handler = CommandHandler('start', start)\n",
    "    application.add_handler(start_handler)\n",
    "    application.run_polling()"
   ]
  },
  {
   "cell_type": "code",
   "execution_count": null,
   "id": "f826058e",
   "metadata": {},
   "outputs": [],
   "source": [
    "import logging\n",
    "import sys\n",
    "import asyncio\n",
    "from os import getenv\n",
    "\n",
    "import aiohttp\n",
    "from aiohttp import web\n",
    "\n",
    "from aiogram import Bot, Dispatcher, Router\n",
    "from aiogram.client.session.aiohttp import AiohttpSession\n",
    "from aiogram.enums import ParseMode\n",
    "from aiogram.filters import CommandStart\n",
    "from aiogram.types import Message\n",
    "from aiogram.utils.markdown import hbold\n",
    "from aiogram.webhook.aiohttp_server import SimpleRequestHandler, setup_application\n",
    "\n",
    "# Bot token can be obtained via https://t.me/BotFather\n",
    "TOKEN = \"7375099855:AAFjk_ZhTlReRo7VzJVQop1byI08VEqWGsc\"\n",
    "\n",
    "# Webserver settings\n",
    "WEB_SERVER_HOST = \"127.0.0.1\"\n",
    "WEB_SERVER_PORT = 7890\n",
    "\n",
    "# Path to webhook route, on which Telegram will send requests\n",
    "WEBHOOK_PATH = r\"/webhook\"\n",
    "\n",
    "# Base URL for webhook\n",
    "BASE_WEBHOOK_URL = \"https://aiogram.dev\"\n",
    "\n",
    "# Proxy URL\n",
    "PROXY_URL = \"http://127.0.0.1:7890\"\n",
    "\n",
    "# All handlers should be attached to the Router (or Dispatcher)\n",
    "router = Router()\n",
    "\n",
    "@router.message(CommandStart())\n",
    "async def command_start_handler(message: Message) -> None:\n",
    "    \"\"\"\n",
    "    This handler receives messages with `/start` command\n",
    "    \"\"\"\n",
    "    await message.answer(f\"Hello, {hbold(message.from_user.full_name)}!\")\n",
    "\n",
    "@router.message()\n",
    "async def echo_handler(message: Message) -> None:\n",
    "    \"\"\"\n",
    "    Handler will forward receive a message back to the sender\n",
    "    \"\"\"\n",
    "    try:\n",
    "        await message.send_copy(chat_id=message.chat.id)\n",
    "    except TypeError:\n",
    "        await message.answer(\"Nice try!\")\n",
    "\n",
    "async def on_startup(bot: Bot) -> None:\n",
    "    await bot.set_webhook(f\"{BASE_WEBHOOK_URL}{WEBHOOK_PATH}\")\n",
    "\n",
    "async def main() -> None:\n",
    "    # Create aiohttp session with proxy\n",
    "    connector = aiohttp.TCPConnector(ssl=False)\n",
    "    session = aiohttp.ClientSession(connector=connector)\n",
    "\n",
    "    # aiohttp session wrapper for aiogram with proxy\n",
    "    aiogram_session = AiohttpSession(session=session, proxy=PROXY_URL)\n",
    "\n",
    "    # Initialize Bot instance with session\n",
    "    bot = Bot(token=TOKEN, parse_mode=ParseMode.HTML, session=aiogram_session)\n",
    "\n",
    "    # Dispatcher is a root router\n",
    "    dp = Dispatcher()\n",
    "    dp.include_router(router)\n",
    "\n",
    "    # Register startup hook to initialize webhook\n",
    "    dp.startup.register(on_startup)\n",
    "\n",
    "    # Create aiohttp.web.Application instance\n",
    "    app = web.Application()\n",
    "\n",
    "    # Create an instance of request handler\n",
    "    webhook_requests_handler = SimpleRequestHandler(dispatcher=dp, bot=bot)\n",
    "    webhook_requests_handler.register(app, path=WEBHOOK_PATH)\n",
    "\n",
    "    # Mount dispatcher startup and shutdown hooks to aiohttp application\n",
    "    setup_application(app, dp, bot=bot)\n",
    "\n",
    "    # And finally start webserver\n",
    "    runner = web.AppRunner(app)\n",
    "    await runner.setup()\n",
    "    site = web.TCPSite(runner, host=WEB_SERVER_HOST, port=WEB_SERVER_PORT)\n",
    "    await site.start()\n",
    "\n",
    "    logging.info(f\"Webhook server started on {WEB_SERVER_HOST}:{WEB_SERVER_PORT}\")\n",
    "\n",
    "    try:\n",
    "        while True:\n",
    "            await asyncio.sleep(3600)\n",
    "    except (KeyboardInterrupt, SystemExit):\n",
    "        logging.info(\"Shutting down...\")\n",
    "    finally:\n",
    "        await session.close()\n",
    "\n",
    "if __name__ == \"__main__\":\n",
    "    logging.basicConfig(level=logging.INFO, stream=sys.stdout)\n",
    "    asyncio.run(main())"
   ]
  },
  {
   "cell_type": "code",
   "execution_count": 22,
   "id": "f2400a1e",
   "metadata": {},
   "outputs": [
    {
     "name": "stderr",
     "output_type": "stream",
     "text": [
      "Traceback (most recent call last):\n",
      "  File \"C:\\Users\\yaoyan\\AppData\\Roaming\\Python\\Python310\\site-packages\\httpx\\_transports\\default.py\", line 69, in map_httpcore_exceptions\n",
      "    yield\n",
      "  File \"C:\\Users\\yaoyan\\AppData\\Roaming\\Python\\Python310\\site-packages\\httpx\\_transports\\default.py\", line 373, in handle_async_request\n",
      "    resp = await self._pool.handle_async_request(req)\n",
      "  File \"C:\\Users\\yaoyan\\AppData\\Roaming\\Python\\Python310\\site-packages\\httpcore\\_async\\connection_pool.py\", line 216, in handle_async_request\n",
      "    raise exc from None\n",
      "  File \"C:\\Users\\yaoyan\\AppData\\Roaming\\Python\\Python310\\site-packages\\httpcore\\_async\\connection_pool.py\", line 196, in handle_async_request\n",
      "    response = await connection.handle_async_request(\n",
      "  File \"C:\\Users\\yaoyan\\AppData\\Roaming\\Python\\Python310\\site-packages\\httpcore\\_async\\http_proxy.py\", line 317, in handle_async_request\n",
      "    stream = await stream.start_tls(**kwargs)\n",
      "  File \"C:\\Users\\yaoyan\\AppData\\Roaming\\Python\\Python310\\site-packages\\httpcore\\_async\\http11.py\", line 383, in start_tls\n",
      "    return await self._stream.start_tls(ssl_context, server_hostname, timeout)\n",
      "  File \"C:\\Users\\yaoyan\\AppData\\Roaming\\Python\\Python310\\site-packages\\httpcore\\_backends\\anyio.py\", line 68, in start_tls\n",
      "    with map_exceptions(exc_map):\n",
      "  File \"C:\\ProgramData\\anaconda3\\lib\\contextlib.py\", line 153, in __exit__\n",
      "    self.gen.throw(typ, value, traceback)\n",
      "  File \"C:\\Users\\yaoyan\\AppData\\Roaming\\Python\\Python310\\site-packages\\httpcore\\_exceptions.py\", line 14, in map_exceptions\n",
      "    raise to_exc(exc) from exc\n",
      "httpcore.ConnectTimeout\n",
      "\n",
      "The above exception was the direct cause of the following exception:\n",
      "\n",
      "Traceback (most recent call last):\n",
      "  File \"C:\\Users\\yaoyan\\AppData\\Roaming\\Python\\Python310\\site-packages\\telegram\\request\\_httpxrequest.py\", line 276, in do_request\n",
      "    res = await self._client.request(\n",
      "  File \"C:\\Users\\yaoyan\\AppData\\Roaming\\Python\\Python310\\site-packages\\httpx\\_client.py\", line 1574, in request\n",
      "    return await self.send(request, auth=auth, follow_redirects=follow_redirects)\n",
      "  File \"C:\\Users\\yaoyan\\AppData\\Roaming\\Python\\Python310\\site-packages\\httpx\\_client.py\", line 1661, in send\n",
      "    response = await self._send_handling_auth(\n",
      "  File \"C:\\Users\\yaoyan\\AppData\\Roaming\\Python\\Python310\\site-packages\\httpx\\_client.py\", line 1689, in _send_handling_auth\n",
      "    response = await self._send_handling_redirects(\n",
      "  File \"C:\\Users\\yaoyan\\AppData\\Roaming\\Python\\Python310\\site-packages\\httpx\\_client.py\", line 1726, in _send_handling_redirects\n",
      "    response = await self._send_single_request(request)\n",
      "  File \"C:\\Users\\yaoyan\\AppData\\Roaming\\Python\\Python310\\site-packages\\httpx\\_client.py\", line 1763, in _send_single_request\n",
      "    response = await transport.handle_async_request(request)\n",
      "  File \"C:\\Users\\yaoyan\\AppData\\Roaming\\Python\\Python310\\site-packages\\httpx\\_transports\\default.py\", line 372, in handle_async_request\n",
      "    with map_httpcore_exceptions():\n",
      "  File \"C:\\ProgramData\\anaconda3\\lib\\contextlib.py\", line 153, in __exit__\n",
      "    self.gen.throw(typ, value, traceback)\n",
      "  File \"C:\\Users\\yaoyan\\AppData\\Roaming\\Python\\Python310\\site-packages\\httpx\\_transports\\default.py\", line 86, in map_httpcore_exceptions\n",
      "    raise mapped_exc(message) from exc\n",
      "httpx.ConnectTimeout\n",
      "\n",
      "The above exception was the direct cause of the following exception:\n",
      "\n",
      "Traceback (most recent call last):\n",
      "  File \"D:\\1-script\\3-PYTHON\\data存储jupyter用的个文件类型数据\\ngrok-v3-stable-windows-amd64\\bot.py\", line 12, in <module>\n",
      "    asyncio.run(main())\n",
      "  File \"C:\\ProgramData\\anaconda3\\lib\\asyncio\\runners.py\", line 44, in run\n",
      "    return loop.run_until_complete(main)\n",
      "  File \"C:\\ProgramData\\anaconda3\\lib\\asyncio\\base_events.py\", line 649, in run_until_complete\n",
      "    return future.result()\n",
      "  File \"D:\\1-script\\3-PYTHON\\data存储jupyter用的个文件类型数据\\ngrok-v3-stable-windows-amd64\\bot.py\", line 7, in main\n",
      "    async with bot:\n",
      "  File \"C:\\Users\\yaoyan\\AppData\\Roaming\\Python\\Python310\\site-packages\\telegram\\_bot.py\", line 330, in __aenter__\n",
      "    raise exc\n",
      "  File \"C:\\Users\\yaoyan\\AppData\\Roaming\\Python\\Python310\\site-packages\\telegram\\_bot.py\", line 326, in __aenter__\n",
      "    await self.initialize()\n",
      "  File \"C:\\Users\\yaoyan\\AppData\\Roaming\\Python\\Python310\\site-packages\\telegram\\_bot.py\", line 776, in initialize\n",
      "    await self.get_me()\n",
      "  File \"C:\\Users\\yaoyan\\AppData\\Roaming\\Python\\Python310\\site-packages\\telegram\\_bot.py\", line 908, in get_me\n",
      "    result = await self._post(\n",
      "  File \"C:\\Users\\yaoyan\\AppData\\Roaming\\Python\\Python310\\site-packages\\telegram\\_bot.py\", line 622, in _post\n",
      "    return await self._do_post(\n",
      "  File \"C:\\Users\\yaoyan\\AppData\\Roaming\\Python\\Python310\\site-packages\\telegram\\_bot.py\", line 651, in _do_post\n",
      "    result = await request.post(\n",
      "  File \"C:\\Users\\yaoyan\\AppData\\Roaming\\Python\\Python310\\site-packages\\telegram\\request\\_baserequest.py\", line 200, in post\n",
      "    result = await self._request_wrapper(\n",
      "  File \"C:\\Users\\yaoyan\\AppData\\Roaming\\Python\\Python310\\site-packages\\telegram\\request\\_baserequest.py\", line 342, in _request_wrapper\n",
      "    raise exc\n",
      "  File \"C:\\Users\\yaoyan\\AppData\\Roaming\\Python\\Python310\\site-packages\\telegram\\request\\_baserequest.py\", line 332, in _request_wrapper\n",
      "    code, payload = await self.do_request(\n",
      "  File \"C:\\Users\\yaoyan\\AppData\\Roaming\\Python\\Python310\\site-packages\\telegram\\request\\_httpxrequest.py\", line 293, in do_request\n",
      "    raise TimedOut from err\n",
      "telegram.error.TimedOut: Timed out\n"
     ]
    }
   ],
   "source": [
    "!Python D:\\1-script\\3-PYTHON\\data存储jupyter用的个文件类型数据\\ngrok-v3-stable-windows-amd64\\bot.py"
   ]
  },
  {
   "cell_type": "code",
   "execution_count": 10,
   "id": "e49c981c",
   "metadata": {},
   "outputs": [
    {
     "name": "stdout",
     "output_type": "stream",
     "text": [
      "Defaulting to user installation because normal site-packages is not writeable\n",
      "Requirement already satisfied: python-telegram-bot[socks] in c:\\users\\yaoyan\\appdata\\roaming\\python\\python310\\site-packages (21.4)\n",
      "Requirement already satisfied: httpx~=0.27 in c:\\users\\yaoyan\\appdata\\roaming\\python\\python310\\site-packages (from python-telegram-bot[socks]) (0.27.0)\n",
      "Requirement already satisfied: sniffio in c:\\users\\yaoyan\\appdata\\roaming\\python\\python310\\site-packages (from httpx~=0.27->python-telegram-bot[socks]) (1.3.1)\n",
      "Requirement already satisfied: anyio in c:\\programdata\\anaconda3\\lib\\site-packages (from httpx~=0.27->python-telegram-bot[socks]) (3.5.0)\n",
      "Requirement already satisfied: httpcore==1.* in c:\\users\\yaoyan\\appdata\\roaming\\python\\python310\\site-packages (from httpx~=0.27->python-telegram-bot[socks]) (1.0.5)\n",
      "Requirement already satisfied: idna in c:\\programdata\\anaconda3\\lib\\site-packages (from httpx~=0.27->python-telegram-bot[socks]) (3.4)\n",
      "Requirement already satisfied: certifi in c:\\users\\yaoyan\\appdata\\roaming\\python\\python310\\site-packages (from httpx~=0.27->python-telegram-bot[socks]) (2024.6.2)\n",
      "Requirement already satisfied: h11<0.15,>=0.13 in c:\\users\\yaoyan\\appdata\\roaming\\python\\python310\\site-packages (from httpcore==1.*->httpx~=0.27->python-telegram-bot[socks]) (0.14.0)\n",
      "Collecting socksio==1.*\n",
      "  Using cached socksio-1.0.0-py3-none-any.whl (12 kB)\n",
      "Installing collected packages: socksio\n",
      "Successfully installed socksio-1.0.0\n"
     ]
    }
   ],
   "source": [
    "!pip install \"python-telegram-bot[socks]\""
   ]
  }
 ],
 "metadata": {
  "kernelspec": {
   "display_name": "Python 3 (ipykernel)",
   "language": "python",
   "name": "python3"
  },
  "language_info": {
   "codemirror_mode": {
    "name": "ipython",
    "version": 3
   },
   "file_extension": ".py",
   "mimetype": "text/x-python",
   "name": "python",
   "nbconvert_exporter": "python",
   "pygments_lexer": "ipython3",
   "version": "3.10.9"
  }
 },
 "nbformat": 4,
 "nbformat_minor": 5
}
