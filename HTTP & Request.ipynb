{
 "cells": [
  {
   "cell_type": "markdown",
   "id": "fb61bf65",
   "metadata": {},
   "source": [
    "### HTTP基础知识\n",
    "https://developer.mozilla.org/en-US/docs/Web/HTTP\n",
    "###### 一、概述\n",
    "（1）客户端-服务器协议 （2）获取HTML文档资源 （3）TCP/TLS加密的应用层协议"
   ]
  },
  {
   "cell_type": "markdown",
   "id": "3c95f301",
   "metadata": {},
   "source": [
    "1. 客户端，通常是web或者伪装成web的爬虫程序，**也就是request库请求，算是urllib库（python内置的请求库）的升级版本**\n",
    "2. 服务器，存放着HTML资源的地方\n",
    "3. 两者之间需要**通信交互，就需要一个协议的存在，这就是http协议**\n",
    "4. 交互会从各种服务器上获取不同的信息，如下图，通过协议与internet发起请求，**不同的服务器给与不同响应**\n",
    "5. 最终呈现在客户端上面的大网页文本，是在拿到不同的响应资源后解析重构的，资源包含**文本，布局描述、图像、视频、脚本等**\n",
    "6. HTTP 设计于 20 世纪 90 年代初，是一种随着时间的推移而不断发展的可扩展协议。它是通过**TCP或TLS加密的 TCP 连接发送的应用层协议**，但理论上可以使用任何可靠的传输协议。     \n",
    "（1）TCP（传输控制协议）是一种重要的网络协议，可让两台主机连接并交换数据流。TCP 保证数据和数据包的传送顺序与发送时的顺序相同。   \n",
    "（2）传输层安全性 (TLS)以前称为**安全套接字层 (SSL) ，&nbsp;** 是应用程序用于跨网络安全通信的协议，可防止篡改和窃听电子邮件、网页浏览、消息传递和其他协议。所有现代浏览器都支持 TLS 协议，**要求服务器提供有效的数字证书来确认其身份，以便建立安全连接**。   \n",
    "7. 实际在客户端和服务器之间还有众多的proxy代理 "
   ]
  },
  {
   "cell_type": "code",
   "execution_count": null,
   "id": "99923f0b",
   "metadata": {},
   "outputs": [],
   "source": [
    "from IPython.display import Image, display\n",
    "image_path = r\"D:\\1-script\\3-PYTHON\\image存储jupyter在用的图片存放于此\\http传输协议传输过程演示.jpg\"\n",
    "display(Image(filename = image_path,width=500, height=500))"
   ]
  },
  {
   "cell_type": "markdown",
   "id": "22dd22b5",
   "metadata": {},
   "source": [
    "### HTTP基础知识\n",
    "###### 二、基本面\n",
    "（1）可扩展 （2）无状态但不是无会话的（3）http和链接（4）http能控制什么（5）http流程（6）http消息（7）基于http的API"
   ]
  },
  {
   "cell_type": "markdown",
   "id": "3f059a83",
   "metadata": {},
   "source": [
    "###### （一）可扩展\n",
    "HTTP 标头 在 HTTP/1.0 中引入，使该协议易于扩展和试验。甚至可以通过客户端和服务器之间关于新标头语义的简单协议来引入新功能。"
   ]
  },
  {
   "cell_type": "markdown",
   "id": "4ff97db2",
   "metadata": {},
   "source": [
    "###### （二）无状态但不是无会话的\n",
    "大致可以理解为，一个用户在一个页面下的多次操作之间，是不连贯的，即上一次操作的结果不会和本次操作的结果链接在一起  \n",
    "但是http 的cookie 允许使用有状态会话，使用标头可扩展性，将**http cookie加入工作流程保证请求共享相同的状态**"
   ]
  },
  {
   "cell_type": "markdown",
   "id": "3189e23e",
   "metadata": {},
   "source": [
    "###### （三）http和链接\n",
    "1. 连接是在**传输层控制的，超出了 HTTP 的应用层范围**。\n",
    "2. HTTP 不要求底层传输协议是基于连接的；它只要求它是可靠的，或者不会丢失消息（至少在这种情况下会出现错误）。在 Internet 上最常见的两种传输协议中，**TCP 是可靠的，而 UDP 则不可靠。因此，HTTP 依赖于基于连接的 TCP 标准**。\n",
    "3. 交互通信前，HTTP必须先建立TCP链接     \n",
    "（1）HTTP1.0默认为每一个请求/响应单独打开一个TCP，非常低效，远不如共享单个TCP高效；       \n",
    "（2）HTTP/1.1引入了管道（事实证明很难实现）和持久连接：底层的TCP连接可以使用Connection标头进行部分控制；       \n",
    "（3）HTTP/2 更进一步，通过在单个连接上复用消息，帮助保持连接温暖且更高效。"
   ]
  },
  {
   "cell_type": "markdown",
   "id": "f3052d11",
   "metadata": {},
   "source": [
    "###### （四）http能控制什么\n",
    "1. 缓存：服务器通过http指示代理和客户端缓存的内容与缓存时间；客户端可以指示中间缓存代理忽略存储的文档。\n",
    "2. 放宽来源限制：为了防止窥探和其他隐私侵犯，Web 浏览器强制网站之间严格隔离。只有来自同源的页面才能访问网页的所有信息。虽然这样的约束对服务器来说是一种负担，但 HTTP 标头可以放松服务器端的这种严格分离，允许文档成为来自不同域的信息的拼凑而成；甚至可能有与安全相关的原因这样做\n",
    "3. 身份验证: 某些页面可能受到保护，以便只有特定用户才能访问它们。基本身份验证可以由 HTTP 提供，可以使用和类似的标头，也可以通过使用HTTP cookieWWW-Authenticate设置特定会话来提供。\n",
    "4. 代理和隧道: 服务器或客户端通常位于 Intranet 上，并对其他计算机隐藏其真实 IP 地址。然后 HTTP 请求通过代理来跨越这个网络障碍。并非所有代理都是 HTTP 代理。例如，SOCKS 协议在较低级别上运行。其他协议（如 ftp）可以由这些代理处理。\n",
    "5. 会话： 使用 HTTP cookie 允许您将请求与服务器的状态链接起来。尽管基本 HTTP 是无状态协议，但这仍会创建会话。这不仅对于电子商务购物篮很有用，而且对于任何允许用户配置输出的网站也很有用。"
   ]
  },
  {
   "cell_type": "markdown",
   "id": "eb843be2",
   "metadata": {},
   "source": [
    "###### （五）http流程\n",
    "1. 打开TCP链接\n",
    "2. 发送 HTTP 消息\n",
    "3. 读取服务器发送的响应\n",
    "4. 关闭或重新使用连接以进行进一步的请求    \n",
    "如果激活 HTTP 管道，则可以发送多个请求，而无需等待第一个响应完全接收。事实证明，HTTP 管道很难在现有网络中实现，因为旧软件与现代版本共存。HTTP 管道已在 HTTP/2 中被取代，在帧内具有更强大的多路复用请求。"
   ]
  },
  {
   "cell_type": "markdown",
   "id": "e24bbf2c",
   "metadata": {},
   "source": [
    "###### （六）http消息\n",
    "1. HTTP 消息（如 HTTP/1.1 及更早版本中定义）是人类可读的。在 HTTP/2 中，这些消息被嵌入到二进制结构（帧）中，从而允许进行标头压缩和多路复用等优化。\n",
    "2. HTTP 消息有两种类型：**请求和响应**，每种类型都有自己的格式。     \n",
    "**请求由以下元素组成** ：    \n",
    "（1）method，代表http方法，通常是动词，如get、post；也可以是名词，如options ；或者是head定义客户端想要执行的操作    \n",
    "（2）path，代表获取资源使用的路径，例如没有协议( http://)、域（此处为developer.mozilla.org）或 TCP端口（此处为80）    \n",
    "（3）version of the protocol，代表的是HTTP 协议的版本     \n",
    "（4）headers，代表的是为服务器传达附加信息的可选标头     \n",
    "（5）正文，对于某些方法（如 ）POST，类似于响应中的内容，其中包含发送的资源。   "
   ]
  },
  {
   "cell_type": "code",
   "execution_count": null,
   "id": "1bc6f62c",
   "metadata": {},
   "outputs": [],
   "source": [
    "from IPython.display import Image, display\n",
    "image_path = r\"D:\\1-script\\3-PYTHON\\image存储jupyter在用的图片存放于此\\请求的构成.jpg\"\n",
    "display(Image(filename = image_path,width=500, height=500))"
   ]
  },
  {
   "cell_type": "markdown",
   "id": "8498f601",
   "metadata": {},
   "source": [
    "**响应由以下元素组成** ：   \n",
    "（1）它们遵循的 HTTP 协议的版本。    \n",
    "（2）状态码，指示请求是否成功以及原因。    \n",
    "（3）状态消息，状态代码的非权威简短描述。    \n",
    "（4）HTTP headers，就像请求的 headers 一样。    \n",
    "（5）（可选）包含所获取资源的主体。    "
   ]
  },
  {
   "cell_type": "code",
   "execution_count": null,
   "id": "5daa5ff8",
   "metadata": {},
   "outputs": [],
   "source": [
    "from IPython.display import Image, display\n",
    "image_path = r\"D:\\1-script\\3-PYTHON\\image存储jupyter在用的图片存放于此\\响应的构成.jpg\"\n",
    "display(Image(filename = image_path,width=500, height=500))"
   ]
  },
  {
   "cell_type": "markdown",
   "id": "8a904e83",
   "metadata": {},
   "source": [
    "###### （七）基于http的API\n",
    "1. 最常用的基于 HTTP 的 API 是Fetch API，它可用于从 JavaScript 发出 HTTP 请求。Fetch API 取代了XMLHttpRequestAPI。\n",
    "\n",
    "2. 另一个 API，服务器发送事件，是一种单向服务，允许服务器使用 HTTP 作为传输机制向客户端发送事件。使用该EventSource接口，客户端打开连接并建立事件处理程序。客户端浏览器自动将到达 HTTP 流的消息转换为适当的Event对象。然后，它将它们传递给已为事件注册的事件处理程序（type如果已知），或者传递给onmessage事件处理程序（如果未建立特定于类型的事件处理程序）。\n",
    "\n",
    "3. 这个含有大量的信息，需要处理，从https://developer.mozilla.org/en-US/docs/Web/HTTP/Overview 这里过去"
   ]
  },
  {
   "cell_type": "markdown",
   "id": "e6ff3f44",
   "metadata": {},
   "source": [
    "### HTTP基础知识\n",
    "###### 三、历史版本\n",
    "（1）万维网的发明 （2）0.9版本单行协议 （3）1.0版本构建可扩展性 （4）1.1版本标准化协议（5）超过15年的延期\n",
    "（6）http2的更高性能（7）http3    \n",
    "\n",
    "详细的可参考：https://developer.mozilla.org/en-US/docs/Web/HTTP/Basics_of_HTTP/Evolution_of_HTTP"
   ]
  },
  {
   "cell_type": "markdown",
   "id": "642dfbdb",
   "metadata": {},
   "source": [
    "###### （一）万维网的发明\n",
    "1989 年，蒂姆·伯纳斯·李 (Tim Berners-Lee) 在欧洲核子研究组织 (CERN) 工作期间撰写了一份通过互联网构建超文本系统的提案。\n",
    "它最初称为Mesh ，后来在 1990 年实施期间更名为万维网。它构建在现有的 TCP 和 IP 协议之上，由 4 个构建块组成：    \n",
    "1. 超文本文档的文本格式，即超文本标记语言(HTML)。\n",
    "2. 交换这些文档的简单协议是超文本传输​​协议(HTTP)。\n",
    "3. 用于显示（和编辑）这些文档的客户端，第一个网络浏览器称为WorldWideWeb。\n",
    "4. 提供访问文档的服务器，httpd的早期版本。"
   ]
  },
  {
   "cell_type": "markdown",
   "id": "9f768ca2",
   "metadata": {},
   "source": [
    "###### （二）0.9版本单行协议\n",
    "1. 最初无版本号，区分其他被称为0.9\n",
    "2. 极度简单，请求和响应都为一行;\n",
    "3. 请求包含唯一的方法get，get后面是资源的路径，甚至不需要完整的链接，因为没有协议、服务器和端口    \n",
    "请求示例：GET /mypage.html\n",
    "4. 响应仅仅包含文件本身    \n",
    "<html>\n",
    "  A very simple HTML page\n",
    "</html>\n",
    "5. 没有 HTTP 标头。这意味着只能传输 HTML 文件。没有状态或错误代码。如果出现问题，则会生成一个特定的 HTML 文件，其中包含问题的描述以供人们使用。"
   ]
  },
  {
   "cell_type": "markdown",
   "id": "a83d9cdf",
   "metadata": {},
   "source": [
    "### HTTP基础知识\n",
    "###### 四、HTTP消息\n",
    "（1）通用结构展示（2）请求的详细信息（起始行、身体） （3）响应的详细信息（起始行、身体）（4）最为复杂的可拓展性强的标头    \n",
    "原始链接见下 https://developer.mozilla.org/en-US/docs/Web/HTTP/Messages"
   ]
  },
  {
   "cell_type": "markdown",
   "id": "92787437",
   "metadata": {},
   "source": [
    "###### （一）结构展示\n",
    "HTTP 请求和响应具有相似的结构，由以下部分组成：     \n",
    "\n",
    "1. 描述要实现的请求或其成功或失败状态的起始行。该起始线始终是单行。\n",
    "2. 一组可选的HTTP 标头，用于指定请求或描述消息中包含的正文。\n",
    "3. 指示请求的所有元信息的空行已发送。\n",
    "4. 包含与请求关联的数据（如 HTML 表单的内容）或与响应关联的文档的可选正文。正文的存在及其大小由起始行和 HTTP 标头指定。"
   ]
  },
  {
   "cell_type": "code",
   "execution_count": null,
   "id": "1f754775",
   "metadata": {},
   "outputs": [],
   "source": [
    "from IPython import display\n",
    "image_path = r\"D:\\1-script\\3-PYTHON\\image存储jupyter在用的图片存放于此\\消息结构展示.jpg\"\n",
    "display.display(display.Image(filename = image_path ,width = 500,height = 500))"
   ]
  },
  {
   "cell_type": "markdown",
   "id": "3ab82976",
   "metadata": {},
   "source": [
    "###### （二）关于请求 起始行 Start Line 的详细解释\n",
    "1. Start Line 起始线 包含三项要素     \n",
    "（1）一个HTTP方法，**大小写敏感，固定大写**  详细方法查看链接\n",
    "https://developer.mozilla.org/en-US/docs/Web/HTTP/Methods/CONNECT\n",
    "\n",
    "（2）请求目标，分为两种请求目标的格式    \n",
    "一般通过直连服务器的，会是**原始形式(origin form)** ，省略掉协议方案、主机名和端口号，仅包含路径和**可选的查询字符串**     \n",
    "一般通过代理服务器的，会是**绝对形式(absolute form)** ，  这种形式包括完整的 URL    \n",
    "专用于CONNECT HTTP方法的，会有**权限形式(authority form)** ，只包含权限组件，即域名和可选的端口，两者用：链接，用于建立到目标资源的隧道，常见于HTTPS连接中。   \n",
    "仅用于OPTIONS HTTP方法的，会有**星号形式(asterisk form)** ， 只能用于OPTIONS方法，表示对服务器本身的查询而不是特定资源\n",
    "（3）HTTP版本，定义剩余消息的结构，充当用于响应的预期版本的指示符。\n",
    "     \n",
    "**原始形式示例** ：     \n",
    "POST / HTTP/1.1：这个例子使用 POST 方法向服务器的根目录发起请求，使用的是 HTTP/1.1 版本。    \n",
    "GET /background.png HTTP/1.0：这个例子使用 GET 方法请求服务器上的 background.png 图像文件，使用的是 HTTP/1.0 版本。     \n",
    "HEAD /test.html?query=alibaba HTTP/1.1：这个例子使用 HEAD 方法请求 test.html 页面，同时包括一个问号+一个查询字符串 query=alibaba，使用的是 HTTP/1.1 版本。    \n",
    "OPTIONS /anypage.html HTTP/1.0：这个例子使用 OPTIONS 方法查询服务器关于 /anypage.html 页面支持的 HTTP 方法，使用的是 HTTP/1.0 版本。   \n",
    "\n",
    "**绝对形式示例** ：    \n",
    "GET https://developer.mozilla.org/en-US/docs/Web/HTTP/Messages HTTP/1.1\n",
    "\n",
    "**权限形式示例** ：    \n",
    "CONNECT example.com:443 HTTP/1.1\n",
    "\n",
    "**星号形式示例** ：\n",
    "OPTIONS * HTTP/1.1"
   ]
  },
  {
   "cell_type": "markdown",
   "id": "12c8101f",
   "metadata": {},
   "source": [
    "**原始形式拓展解释**  绝对形式也能拼接查询参数   \n",
    "HEAD /test.html?query=alibaba HTTP/1.1：\n",
    "1. HEAD 是一个http方法\n",
    "2. /test.html 是请求路径\n",
    "3. ? **代表增加不改变服务器状态的，仅用于指导服务器如何处理请求或如何执行响应的查询字符串起点  \n",
    "4. query=alibaba 代表查询字符串 query是参数，alibaba是参数的值\n",
    "5. HTTP/1.1 是协议   \n",
    "3和4在原始形式中并不是必须提供的，简化到 HEAD /test.html HTTP/1.1一样正确"
   ]
  },
  {
   "cell_type": "markdown",
   "id": "7ebb892d",
   "metadata": {},
   "source": [
    "###### （三）关于请求的 身体 body的详细解释\n",
    "请求的最后部分是其正文，并非所有请求都需要携带正文，中间的标头请看更加下面    \n",
    "\n",
    "**获取资源的请求，比如GET、HEAD、DELETE或OPTIONS，一般不需要一个正文    \n",
    "推送数据给服务器以更新的请求，比如POST、PUT请求，一般会需要一个正文（包含 HTML 表单数据）**   \n",
    "\n",
    "单一资源主体，由一个文件组成，由两个标头定义：Content-Type和Content-Length。在实体标头中已经解释过分别是传输的物品类型和大小    \n",
    "多资源主体，由多部分主体组成，每个主体包含不同的信息位。这通常与HTML 表单相关。  "
   ]
  },
  {
   "cell_type": "markdown",
   "id": "0e979e10",
   "metadata": {},
   "source": [
    "###### （四）关于响应 起始行 Start Line 的详细解释\n",
    "HTTP 响应的起始行称为状态行，包含以下信息：    \n",
    "1. 它们遵循的 HTTP 协议的版本。通常是协议版本HTTP/1.1。      \n",
    "2. 状态码，指示请求成功或失败。常见的状态代码有200、404、 或302  \n",
    "更多状态码解释参考：https://developer.mozilla.org/en-US/docs/Web/HTTP/Status\n",
    "3. 状态消息，状态代码的简短、纯信息性文本描述，可帮助人们理解 HTTP 消息。 \n",
    "        \n",
    "典型的状态行如下所示：HTTP/1.1 404 Not Found。    "
   ]
  },
  {
   "cell_type": "markdown",
   "id": "ccaa6a23",
   "metadata": {},
   "source": [
    "###### （五）关于响应的 身体 body的详细解释\n",
    "响应的最后一部分是正文。如果状态码和状态码信息足以解释请求的回馈，那么就不携带正文，但是通常不会不携带\n",
    "\n",
    "结构大致可以分为三类：\n",
    "\n",
    "单一资源体，由已知长度的单个文件组成，由两个标头定义：Content-Type和Content-Length。\n",
    "单一资源体，由未知长度的单个文件组成，由Transfer-Encoding设置为 的块编码chunked。\n",
    "多资源主体，由多部分主体组成，每个主体包含不同的信息部分。这些都是比较少见的。"
   ]
  },
  {
   "cell_type": "markdown",
   "id": "ef1b7a1b",
   "metadata": {},
   "source": [
    "###### （六）关于 标头 标头的详细解释\n",
    "详细的标头解释请查看链接 https://developer.mozilla.org/en-US/docs/Web/HTTP/Headers/Accept\n",
    "\n",
    "1. HTTP headers 标头 分为复数类型：通用标头(General Headers)、请求标头(Request Headers)、响应标头(Response Headers)、实体标头(Entity Headers)、自定义扩展标头(Custom or Extension Headers)  \n",
    "此项分类用于早期的HTTP/1.1规范（RFC 2616）中使用的,后续的HTTP/1.1修订版本（RFC 7230系列）中，这个术语已经不再使用。所以这个分类可能过时\n",
    "2. **非大小写敏感，固定首字母大写，其他小写**      \n",
    "     \n"
   ]
  },
  {
   "cell_type": "markdown",
   "id": "f436bc1f",
   "metadata": {},
   "source": [
    "3. 通用标头 本身是指既能用在请求又能用在响应里面的标头，但是现在这个说法已经过时了 \n",
    "\n",
    "**Via，由正向和反向代理添加，可以出现在请求或响应标头中。它用于跟踪消息转发、避免请求循环以及识别请求/响应链上发送方的协议功能。**   \n",
    "Via:1.1 vegur      解释：请求/响应通过了一个名为“vegur”的HTTP/1.1代理    \n",
    "Via:HTTP/1.1 GWA    解释：请求/响应通过了一个名为“GWA”的代理，使用HTTP/1.1协议。   \n",
    "\n",
    "**Cache-Control: 用于定义网页或其他资源的缓存策略。**     \n",
    "*请求时*：请求指令是客户端可以在HTTP请求的Cache-Control头部中设置的，用来指定缓存机制的偏好设置。一些常见的请求指令包括：    \n",
    "no-cache：强制在使用已缓存的资源前，向原始服务器验证其有效性。    \n",
    "no-store：不允许任何缓存，即每次请求都要下载完整的响应。\n",
    "max-age=<seconds>：指定客户端希望接收的资源最大年龄（即自资源生成或验证以来的时间）。    \n",
    "*响应时*：响应指令是服务器可以在HTTP响应的Cache-Control头部中设置的，用来指示如何缓存资源。一些常见的响应指令包括：    \n",
    "public：指示响应可以被任何缓存区缓存，即使是通常不会缓存响应的共享缓存区也可以缓存该响应。    \n",
    "private：指示响应是为单个用户私有的，只能被用户的浏览器缓存，而不是由CDN或代理服务器缓存。    \n",
    "no-cache：与请求指令中的相同，指示缓存的资源必须在使用前验证其有效性。        \n",
    "no-store：与请求指令中的相同，完全禁止缓存。    \n",
    "max-age=<seconds>：指示资源可以被缓存的最大时间长度，从响应生成开始计算。     \n",
    "s-maxage=<seconds>：类似max-age，但仅适用于共享缓存（如代理服务器）。     \n",
    "must-revalidate：一旦资源过期（即超过max-age），在使用缓存的资源之前必须向服务器验证其有效性。   \n",
    "proxy-revalidate：与must-revalidate类似，但它仅适用于共享缓存。     \n",
    "\n",
    "Cache-Control: public, max-age=3600  解释：这表示资源可以被公开缓存，并且在接下来的3600秒（1小时）内被认为是新鲜的。    \n",
    "Cache-Control: private, no-cache, no-store, must-revalidate 解释：这表示资源是私有的，不应被缓存，并且在使用前必须重新验证其有效性。   \n",
    "\n",
    "**Connection: 控制是否保持网络连接开启，如keep-alive或close。到hhtp2已经完全内置这个头部，故不再使用，因为http2本身就是多路复用一个链接的**\n",
    "    \n",
    "**Date: 创建HTTP消息的日期和时间。**"
   ]
  },
  {
   "cell_type": "markdown",
   "id": "41fd21ad",
   "metadata": {},
   "source": [
    "4. 请求标头，通常用于更具体地描述请求或客户端本身\n",
    "\n",
    "**User -Agent 请求标头是一个特征字符串，可让服务器和网络对等方识别请求用户代理的应用程序、操作系统、供应商和/或版本。**    \n",
    "Chrome 浏览器在 Android 设备上的例子：User-Agent: Mozilla/5.0 (Linux; Android 9; Pixel 3 XL) AppleWebKit/537.36 (KHTML, like Gecko) Chrome/76.0.3809.111 Mobile Safari/537.36        \n",
    "完整写法： User-Agent: Mozilla/<version> (platform; rv:<gecko-version>) Gecko/<gecko-release-date> <browser-name>/<browser-version>   \n",
    "\n",
    "**Accept: 指定客户端能够接收的内容类型，如text/html或application/json。**\n",
    "\n",
    "**Accept-Encoding: 指定客户端可以接受的编码方式，如gzip或deflate。**\n",
    "    \n",
    "**Host: 指定请求的服务器的域名。**\n"
   ]
  },
  {
   "cell_type": "markdown",
   "id": "5b9e1058",
   "metadata": {},
   "source": [
    "5. 响应标头，这些标头包含了更具体的关于服务器的响应信息\n",
    "\n",
    "**Server: 包含服务器软件的信息。**      \n",
    "\n",
    "**Set-Cookie: 服务器通知客户端设置一个Cookie。**\n",
    "\n",
    "**WWW-Authenticate: 表明客户端请求的资源需要通过HTTP认证。**"
   ]
  },
  {
   "cell_type": "markdown",
   "id": "6b12f008",
   "metadata": {},
   "source": [
    "\n",
    "6. 实体标头（Entity Headers）/表示头部（Representation Headers） 一度是一个类别，描述HTTP消息体内容的信息\n",
    "\n",
    "这些标头包含了有关实体体（如请求的资源或响应体）的信息。例如：    \n",
    "**Content-Type: 实体体的媒体类型，比如application/json或image/jpeg。**     \n",
    "**Content-Length: 实体体的大小（以字节为单位）。**     \n",
    "**Content-Encoding: 实体体应用的编码格式。**     "
   ]
  },
  {
   "cell_type": "markdown",
   "id": "8db92d7d",
   "metadata": {},
   "source": [
    "7. 自定义扩展标头（Custom or Extension Headers）\n",
    "用户可以创建自定义标头，通常这些自定义标头以X-开始，以区分于标准的标头。例如：    \n",
    "\n",
    "X-Requested-With: 通常用于标识Ajax请求。     \n",
    "X-Frame-Options: 可以用来控制网页内容在其他网页的<frame>或<iframe>中的显示问题。    \n",
    "标头的使用允许HTTP请求和响应提供关于传输数据方式、请求的来源、如何处理请求和响应等的丰富上下文信息。正确的使用和理解HTTP标头对于开发安全、高效且可靠的Web应用程序至关重要。    "
   ]
  },
  {
   "cell_type": "markdown",
   "id": "158f64b0",
   "metadata": {},
   "source": [
    "###### （七）HTTP/2 帧\n",
    "\n",
    "1. **HTTP/1.x 消息对性能有一些缺点**：\n",
    "与正文不同，标头是未压缩的。\n",
    "一条消息与下一条消息的标头通常非常相似，但在连接之间仍然重复。\n",
    "无法进行多路复用。需要在同一台服务器上打开多个连接：热 TCP 连接比冷连接更有效。  \n",
    "\n",
    "2. HTTP/2 引入了一个额外的步骤：它将 HTTP/1.x 消息划分为嵌入流中的帧。数据和标头帧是分开的，这允许标头压缩。多个流可以组合在一起，这个过程称为多路复用，允许更有效地使用底层 TCP 连接。\n",
    "\n",
    "3. HTTP 帧现在对 Web 开发人员来说是透明的。这是 HTTP/2 中 HTTP/1.1 消息和底层传输协议之间的附加步骤。Web 开发人员无需更改 API 即可利用 HTTP 帧；当浏览器和服务器都可用时，HTTP/2 将被打开并使用。"
   ]
  },
  {
   "cell_type": "markdown",
   "id": "8f512c23",
   "metadata": {},
   "source": [
    "### Requests库知识\n",
    "###### 一、安装与检查Request库"
   ]
  },
  {
   "cell_type": "code",
   "execution_count": null,
   "id": "6588330b",
   "metadata": {},
   "outputs": [],
   "source": [
    "# 安装request库\n",
    "!pip install requests"
   ]
  },
  {
   "cell_type": "code",
   "execution_count": null,
   "id": "6352f494",
   "metadata": {},
   "outputs": [],
   "source": [
    "# 展示request信息\n",
    "!pip show requests"
   ]
  },
  {
   "cell_type": "markdown",
   "id": "8577cf70",
   "metadata": {},
   "source": [
    "### Requests库知识\n",
    "###### 二、通用知识"
   ]
  },
  {
   "cell_type": "markdown",
   "id": "7b6d8792",
   "metadata": {},
   "source": [
    "0. 明确学习目的并非是为了完成爬虫，这个有更加专业的操作逻辑；学习requests库仅用于在请求基于http协议开发的Api接口时使用\n",
    "\n",
    "1. requests 库默认不支持 HTTP/2 协议。requests 是一个基于 urllib3 的库，而 urllib3 传统上只支持 HTTP/1.1。\n",
    "使用2建议httpx库，现代的HTTP客户端库，支持 HTTP/1.1 和 HTTP/2。httpx 的API与 requests 非常相似，使得从 requests 迁移变得相对容易。\n",
    "import httpx\n",
    "使用HTTP/2协议发送请求\n",
    "response = httpx.get('https://example.com/', http2=True)\n",
    "print(response.protocol)  # 输出使用的协议版本，例如 'HTTP/2'\n",
    "请注意，服务器必须支持 HTTP/2，客户端才能使用这个协议。如果服务器不支持 HTTP/2，即使客户端请求使用 HTTP/2，通信也会退回到 HTTP/1.1。\n",
    "\n",
    "2. requests至少支持 GET HEAD POST PUT DELETE OPTIONS等请求，实际http的请求形式更多，可见上面http请求消息体 方法部分"
   ]
  },
  {
   "cell_type": "markdown",
   "id": "9a09e4a6",
   "metadata": {},
   "source": [
    "### Requests库知识\n",
    "###### 三、get  请求  part1 发起请求\n",
    "（1）发起基础请求 （2）使用params参数 （3）使用headers 中的user_agent（4）使用headers 中的 cookie （5）使用cookies参数自己，分为jar和字典\n",
    "（6）设置Timeout参数"
   ]
  },
  {
   "cell_type": "code",
   "execution_count": null,
   "id": "0a75f406",
   "metadata": {},
   "outputs": [],
   "source": [
    "# 1. 发起一个get请求，等于在web浏览器中输入某个网址，输入的是请求的网址和参数，返回的是响应的内容，被requests库自动解析为响应对象的属性/方法\n",
    "import requests\n",
    "# get 方法参数 ：get(url, params=None, **kwargs): # kwargs额外的关键字参数将被传递给请求。这包括可以传递的许多选项，如 headers, cookies, auth 等。\n",
    "# 1.1 一个简单的get请求\n",
    "response = requests.get(r'https://api.github.com/events') # 简单请求"
   ]
  },
  {
   "cell_type": "code",
   "execution_count": null,
   "id": "8f9b21e7",
   "metadata": {},
   "outputs": [],
   "source": [
    "# 1.2 传递params参数 用于自动拼接链接后面的查询参数 #手工在url后面拼接上?from=USD&to=IDR 也可以参数查询 但是不推荐\n",
    "import requests\n",
    "fc =\"USD\"\n",
    "tc =\"IDR\"\n",
    "response2 = requests.get(url = r'https://mini.iboxgame.io/game/getRate',params = {\"from\":fc,\"to\":tc})\n",
    "response2.url # 'https://mini.iboxgame.io/game/getRate?from=USD&to=IDR'"
   ]
  },
  {
   "cell_type": "code",
   "execution_count": null,
   "id": "484341b0",
   "metadata": {},
   "outputs": [],
   "source": [
    "# 1.2.1 params如果传递的是中文会自动编码\n",
    "fc =\"是上帝\"\n",
    "tc =\"是 人类\" #有空格，下面也确实的表现为+号\n",
    "response21 = requests.get(url = r'https://api.github.com/events',params = {\"from\":fc,\"to\":tc} )\n",
    "response21.url # 'https://api.github.com/events?from=%E6%98%AF%E4%B8%8A%E5%B8%9D&to=%E6%98%AF%E4%BA%BA%E7%B1%BB'\n",
    "# 后面的乱序就是编码"
   ]
  },
  {
   "cell_type": "code",
   "execution_count": null,
   "id": "c5192007",
   "metadata": {},
   "outputs": [],
   "source": [
    "print(response21.request.headers)"
   ]
  },
  {
   "cell_type": "code",
   "execution_count": null,
   "id": "be2634bc",
   "metadata": {},
   "outputs": [],
   "source": [
    "# 1.2.2 URL编码知识补充\n",
    "# 1. URL 中包含非ASCII字符（如中文），就需要进行百分号编码（也称为URL编码）以符合 URL 的标准格式。\n",
    "# 2. requests 库会自动处理这种编码。\n",
    "# 3. 可以使用urllib3.parse 中的quote urlencode quote_plus这些方法完成URL编码\n",
    "# 4. 可以使用urllib3.parse 中的unquote parse_qs unquote_plus这些方法完成URL解码\n",
    "# from urllib.parse import 中的quote,urlencode,quoteplus\n",
    "import urllib.parse as parse\n",
    "print(parse.quote(fc)) #  '%E6%98%AF%E4%B8%8A%E5%B8%9D' 和上面requests自动编码的一样\n",
    "print(parse.quote_plus(fc)) # quote_plus函数和quote非常相似，但它会把字符串中的空格 替换为加号+。这通常用于编码查询字符串中的参数，因为在查询参数中，加号表示空格。\n",
    "\n",
    "dict1 = {\"上帝\":\"神明\",\"人类\":\"被制造\"}\n",
    "print(parse.urlencode(dict1)) # 可以对字典进行编码\n",
    "dict2 = {\"上帝\":\"天教 神明\",\"c\":\"被制造\"}\n",
    "print(parse.urlencode(dict2)) # 查询字符串指?后面的东西，这个里面最好用quote_plus来编码，当然字典中urlencode也会针对其值中的空格变为+\n",
    "# 另外也存在着使用%20代表空格的方式 name=John%20Doe\n",
    "\n",
    "# 对于空格字符，它通常被编码为%20，但在查询字符串中，空格也经常被替换为加号（+）以提高可读性。这是一种约定，由application/x-www-form-urlencoded MIME类型定义，它通常用于HTML表单数据的提交。"
   ]
  },
  {
   "cell_type": "code",
   "execution_count": null,
   "id": "b83ac9c7",
   "metadata": {},
   "outputs": [],
   "source": [
    "# 1.3 传递标头参数中的User_Agent 伪装自己为浏览器，\n",
    "# 这倒是这个协议的好玩之处，明文不加密，可以直接修改，是基础反反爬虫技巧\n",
    "response21 = requests.get(url = r'https://api.github.com/events',params = {\"from\":fc,\"to\":tc},headers = {\"user-agent\": \"Mozilla/5.0 (Windows NT 10.0; Win64; x64) AppleWebKit  /537.36 (KHTML, like Gecko) Chrome/86.0.4240.198 Safari/537.36\"}   ) # 给出其他参数控制标头"
   ]
  },
  {
   "cell_type": "code",
   "execution_count": null,
   "id": "abcb15b5",
   "metadata": {},
   "outputs": [],
   "source": [
    "# 1.4 传递标头中的cookie 维持用户访问状态，简单来说保持登录\n",
    "# 下面的案例就是典型的，不保持登录的情况下，看到的信息是要求登录；登录后看到的是其他内容，区别仅在于是否headers中传递cookie\n",
    "\n",
    "# 获取cookie\n",
    "# response.cookies.items() # 遍历这个元祖就行\n",
    "\n",
    "# 实际使用它\n",
    "import requests  \n",
    "# 访问网址\n",
    "url =  'https://www.zhihu.com/creator'\n",
    "# 基于补充知识在浏览器获取信息\n",
    "user_agent = 'Mozilla/5.0 (Windows NT 10.0; Win64; x64) AppleWebKit/537.36 (KHTML, like Gecko) Chrome/120.0.0.0 Safari/537.36'\n",
    "Cookie = '_zap=f45caa02-1913-4c84-b66e-9676a2ba1419; d_c0=AJAVOYz9zRePTnegkQ341D5HnVXHvGZM0hM=|1701740774; q_c1=fac75c56a35844af840e946f5c05b77d|1703065883000|1703065883000; z_c0=2|1:0|10:1703065897|4:z_c0|80:MS4xanYyRUt3QUFBQUFtQUFBQVlBSlZUUjRIY0dhWnlWUzRlRVB3ZllwUng5Q3hlUWlzaHN4eHhRPT0=|b58a43b6516b0518dc3772736e80a83085653d545ec417c4eb957dd8771ce36c; ariaDefaultTheme=undefined; _xsrf=78af7af2-088c-40cc-a6e6-224387b295ab; Hm_lvt_98beee57fd2ef70ccdd5ca52b9740c49=1702519532,1703469940,1703476052,1704176439; Hm_lpvt_98beee57fd2ef70ccdd5ca52b9740c49=1704342031; tst=h; KLBRSID=fe0fceb358d671fa6cc33898c8c48b48|1704342032|1704342030; SESSIONID=uNxbRKfFvKyzY1VcVltv4CBsRoiEk6oP1KAnFtwrkDp; JOID=U1AdA03TRHtwdzMgNNJaJSPIl-YorwoLFCJxRnqiBgICKAV_V8p-4xR5Oig63T-0WW_jBX_UTGCK7EsyovwhudA=; osd=VFwWBErUSHB3cDQsP9VdIi_DkOEvowEMEyV9TX2lAQ4JLwJ4W8F55BN1MS892jO_XmjkCXTTS2eG50w1pfAqvtc='\n",
    "headers = {'user-agent':user_agent,} # \"cookie\":Cookie\n",
    "response = requests.get(url,headers = headers)  \n",
    "response.cookies.items()\n",
    "# 响应的cookies "
   ]
  },
  {
   "cell_type": "code",
   "execution_count": null,
   "id": "af5620fc",
   "metadata": {},
   "outputs": [],
   "source": [
    "# 1.4.1 cookies 参数的使用 get(url,cookies = cookies 接受字典)\n",
    "# 除了在headers中包含cookie之外，直接用cookies传递也是ok的\n",
    "\n",
    "# 处理获取到的cookie cookie由 key = values ; 的结构复数组成\n",
    "import requests\n",
    "from urllib.parse import unquote\n",
    "\n",
    "# 给出知乎登录后浏览器看到的cookie字符串\n",
    "cookies_str = '_zap=f45caa02-1913-4c84-b66e-9676a2ba1419; d_c0=AJAVOYz9zRePTnegkQ341D5HnVXHvGZM0hM=|1701740774; q_c1=fac75c56a35844af840e946f5c05b77d|1703065883000|1703065883000; ariaDefaultTheme=undefined; tst=h; __snaker__id=LaQPFf5kEjhcQYGt; _xsrf=5581a5ed-3af6-4e86-8513-28bb1d7d9c1b; Hm_lvt_98beee57fd2ef70ccdd5ca52b9740c49=1703469940,1703476052,1704176439,1704418921; captcha_session_v2=2|1:0|10:1704418921|18:captcha_session_v2|88:eFBwbnhMNTVqUE9zd3cySTI2U2srMkZWYzliTkFkV24yR3NyeTBBVVJWUE9kdEU2RVBBVmhMQTREVW5uZ2k4Sg==|a1bb0748927168753c50cb0b76bb4c48b19b52c9d7762cb24a068e1ca3bcbe90; SESSIONID=fgRtBkQGuKtWVG1Wg7Ft1LTmTuPulQxXP5oQGCbXLXd; JOID=Ul0UAE_eadtwIclAJt14jS2Vb4kyvQqLA2enFWOvJ6slcIp0dbUxSRYgyEYje4L9OncM-oZ2MG1GleUdBGhNdMA=; osd=WlgTBknWbNx2J8FFIdt-hSiSaY86uA2NBW-iEmWpL64idox8cLI3Tx4lz0Alc4f6PHEE_4FwNmVDkuMbDG1KcsY=; gdxidpyhxdE=UhbhrkY4jnJSmlI7Gx2SSU%2BJHSeSC4azhzHXSRgR8rRyOsAYqKHo8cOjdV2MEjiuyzJ6zdVzYOtZ2%2F%5COeX0Txm3tOlxb1msJfyX8oCO0JQ2L%5Cuyab%5CotPRwsMVGR6ymSWJv%2FAeJUsToNtbdw5J%2BWMx334LqI%2BI3j19SwoOvo8%2F%2FsB1nz%3A1704419822996; captcha_ticket_v2=2|1:0|10:1704418994|17:captcha_ticket_v2|728:eyJ2YWxpZGF0ZSI6IkNOMzFfcWdoT3FVQ3lLMVNvUkM0QXlmVWJFdVN5bTh6SU5kaDltclJSVWJ1LmNNendxV2ZHa1A5TmFTeDIuRG1RNUZwdE9oYXlYOEpCT0M5ZGJYalFYeTNOdHpOUHVlUXJiMWlCT1E5RksyaUpyQmZnVmZLeE9SWk1iQ2o5SU82WipMODZIVVBseXVkSFJxMWsud1ZfamltcHNWUzBIcWNSY0pCaG9rc2x1QWJDTWp3NHhyZWx0cFVuU3h2YTA5d1JMWUVDbHYzY2NhYlVTT2pVY2hZa3pXTzFDSGxEUk02TmNqaXJsLjhuKjRNdVliVk04bHVzRzJFUWZLR0dBUFJJbUhLdWpZQUJmRGJnQ2c4QXVNd0JfZzMwLmIqNDFaOFhTd1pHYkpDM00ud0l6TmlyZ1ROKlFfRlI2VFBZV1hsLmVha0tiMVFaNHU5ZENMc1BrbGVJVUNEakFFdzB0M0MqazkubjZualR6UkVIc2RyYVVNZU9oOGR3NWh5ZWRjaHluVVFuMjI0Y1RpY1c5eHJmTjJUbml5aDEueWZhZHp6M1pRMEJNcVZLZ3BtOThkT0N6SUN3LmFBQm5BdjJfbmZUZHhLSDlWc2gzd3hDVkhpTVJ2OVV2UnUueHF3MzgzRFMyU3BRT3FMVjRZZ3FRQkcqSU11WVhOcUgxck0zWnVTdlkxaENuT3FxTk03N192X2lfMSJ9|2b8d810e807b7242133ce7b1591706de24279281f05ef11ea6092404d44c58aa; z_c0=2|1:0|10:1704419008|4:z_c0|92:Mi4xanYyRUt3QUFBQUFBa0JVNWpQM05GeVlBQUFCZ0FsVk53S3lFWmdDQXo1TkV1cGZWY3A3MGZMUHhKRkRKeHBIRUVR|e694b7ae682b408d0d7e69b909327a1a9a75b132124715ea2fe53d300bde5c26; SUBMIT_0=97d0ee75-396c-4ec7-bb39-784a17677a8f; Hm_lpvt_98beee57fd2ef70ccdd5ca52b9740c49=1704419010; KLBRSID=031b5396d5ab406499e2ac6fe1bb1a43|1704419010|1704418920'\n",
    "              # =前面是cookie的name，后面是值      # 值里面可能有= 所以限制最大分裂次数为1，从左往右    # 每个分号代表一个完整的cookie\n",
    "\n",
    "# 解析这个字符串为cookies参数能接受的字典格式\n",
    "cookies_dict = {  cookie.split('=')[0].strip() :   cookie.split(sep = '=',maxsplit = 1)[1]     for cookie in   cookies_str.split(';')     }\n",
    "\n",
    "# 请求知乎登录后页面\n",
    "url =  'https://www.zhihu.com/creator'\n",
    "# response = requests.get(url,cookies = cookies_dict)\n",
    "\n",
    "# 查看是否成功进入登录后页面 \n",
    "response.text"
   ]
  },
  {
   "cell_type": "code",
   "execution_count": null,
   "id": "dcd05dda",
   "metadata": {},
   "outputs": [],
   "source": [
    "# 1.4.2 通过requests.cookies.RequestsCookieJar()构造一个对象出来，设置方法给出值，来包装cookies也能被cookies参数接受\n",
    "import requests  \n",
    "import re  \n",
    "\n",
    "url = 'https://www.zhihu.com/creator'  \n",
    "cookies_str = '_zap=f45caa02-1913-4c84-b66e-9676a2ba1419; d_c0=AJAVOYz9zRePTnegkQ341D5HnVXHvGZM0hM=|1701740774; q_c1=fac75c56a35844af840e946f5c05b77d|1703065883000|1703065883000; ariaDefaultTheme=undefined; tst=h; __snaker__id=LaQPFf5kEjhcQYGt; _xsrf=5581a5ed-3af6-4e86-8513-28bb1d7d9c1b; Hm_lvt_98beee57fd2ef70ccdd5ca52b9740c49=1703469940,1703476052,1704176439,1704418921; captcha_session_v2=2|1:0|10:1704418921|18:captcha_session_v2|88:eFBwbnhMNTVqUE9zd3cySTI2U2srMkZWYzliTkFkV24yR3NyeTBBVVJWUE9kdEU2RVBBVmhMQTREVW5uZ2k4Sg==|a1bb0748927168753c50cb0b76bb4c48b19b52c9d7762cb24a068e1ca3bcbe90; SESSIONID=fgRtBkQGuKtWVG1Wg7Ft1LTmTuPulQxXP5oQGCbXLXd; JOID=Ul0UAE_eadtwIclAJt14jS2Vb4kyvQqLA2enFWOvJ6slcIp0dbUxSRYgyEYje4L9OncM-oZ2MG1GleUdBGhNdMA=; osd=WlgTBknWbNx2J8FFIdt-hSiSaY86uA2NBW-iEmWpL64idox8cLI3Tx4lz0Alc4f6PHEE_4FwNmVDkuMbDG1KcsY=; gdxidpyhxdE=UhbhrkY4jnJSmlI7Gx2SSU%2BJHSeSC4azhzHXSRgR8rRyOsAYqKHo8cOjdV2MEjiuyzJ6zdVzYOtZ2%2F%5COeX0Txm3tOlxb1msJfyX8oCO0JQ2L%5Cuyab%5CotPRwsMVGR6ymSWJv%2FAeJUsToNtbdw5J%2BWMx334LqI%2BI3j19SwoOvo8%2F%2FsB1nz%3A1704419822996; captcha_ticket_v2=2|1:0|10:1704418994|17:captcha_ticket_v2|728:eyJ2YWxpZGF0ZSI6IkNOMzFfcWdoT3FVQ3lLMVNvUkM0QXlmVWJFdVN5bTh6SU5kaDltclJSVWJ1LmNNendxV2ZHa1A5TmFTeDIuRG1RNUZwdE9oYXlYOEpCT0M5ZGJYalFYeTNOdHpOUHVlUXJiMWlCT1E5RksyaUpyQmZnVmZLeE9SWk1iQ2o5SU82WipMODZIVVBseXVkSFJxMWsud1ZfamltcHNWUzBIcWNSY0pCaG9rc2x1QWJDTWp3NHhyZWx0cFVuU3h2YTA5d1JMWUVDbHYzY2NhYlVTT2pVY2hZa3pXTzFDSGxEUk02TmNqaXJsLjhuKjRNdVliVk04bHVzRzJFUWZLR0dBUFJJbUhLdWpZQUJmRGJnQ2c4QXVNd0JfZzMwLmIqNDFaOFhTd1pHYkpDM00ud0l6TmlyZ1ROKlFfRlI2VFBZV1hsLmVha0tiMVFaNHU5ZENMc1BrbGVJVUNEakFFdzB0M0MqazkubjZualR6UkVIc2RyYVVNZU9oOGR3NWh5ZWRjaHluVVFuMjI0Y1RpY1c5eHJmTjJUbml5aDEueWZhZHp6M1pRMEJNcVZLZ3BtOThkT0N6SUN3LmFBQm5BdjJfbmZUZHhLSDlWc2gzd3hDVkhpTVJ2OVV2UnUueHF3MzgzRFMyU3BRT3FMVjRZZ3FRQkcqSU11WVhOcUgxck0zWnVTdlkxaENuT3FxTk03N192X2lfMSJ9|2b8d810e807b7242133ce7b1591706de24279281f05ef11ea6092404d44c58aa; z_c0=2|1:0|10:1704419008|4:z_c0|92:Mi4xanYyRUt3QUFBQUFBa0JVNWpQM05GeVlBQUFCZ0FsVk53S3lFWmdDQXo1TkV1cGZWY3A3MGZMUHhKRkRKeHBIRUVR|e694b7ae682b408d0d7e69b909327a1a9a75b132124715ea2fe53d300bde5c26; KLBRSID=031b5396d5ab406499e2ac6fe1bb1a43|1704419017|1704418920; Hm_lpvt_98beee57fd2ef70ccdd5ca52b9740c49=1704419018'\n",
    "headers = {\"user-agent\": 'Mozilla/5.0 (Windows NT 10.0; Win64; x64) AppleWebKit /537.36 (KHTML, like Gecko) Chrome/86.0.4240.198 Safari/537.36'}  \n",
    "\n",
    "# 造个空的jar 然后用set方法将各个cookie的key，value组合传递设置好\n",
    "jar = requests.cookies.RequestsCookieJar()  \n",
    "for cookie in cookies_str.split(';'):\n",
    "    key,value = cookie.split(sep  = '=',maxsplit = 1)\n",
    "    jar.set(key,value)\n",
    "\n",
    "\n",
    "# 请求知乎登录后页面\n",
    "url =  'https://www.zhihu.com/creator'\n",
    "# response = requests.get(url,cookies = jar)\n",
    "\n",
    "print(type(response.cookies)) # <class 'requests.cookies.RequestsCookieJar'>\n",
    "print(type(jar)) # <class 'requests.cookies.RequestsCookieJar'>\n",
    "\n",
    "# 补充 <class 'requests.cookies.RequestsCookieJar'> 如何转变为 字典 一个方法就行\n",
    "print(type(requests.utils.dict_from_cookiejar(response.cookies) ))\n",
    "requests.utils.dict_from_cookiejar(response.cookies)"
   ]
  },
  {
   "cell_type": "markdown",
   "id": "25678023",
   "metadata": {},
   "source": [
    "###### 补充下如何在浏览器中获取自己的请求消息\n",
    "1. 谷歌浏览器 F12 开启检查\n",
    "2. 刷新网页载入信息\n",
    "3. 点击Name下任务\n",
    "4. 左边headers寻找request headers"
   ]
  },
  {
   "cell_type": "code",
   "execution_count": null,
   "id": "ae7f9ce0",
   "metadata": {},
   "outputs": [],
   "source": [
    "# 1.5 Timeout 超时参数设置\n",
    "# requests.get(url, timeout=3)\n",
    "# 在requests库中，GET请求没有设置默认的timeout时间。如果你不显式指定timeout，请求将会无限期地等待响应。\n",
    "# 如果你设置了timeout 分为 链接和读取的超时时间，允许你分别指定，用元祖给 ，比如timeout = (3,5)；也可以不指定，就统一都是3 timeout = 3 \n",
    "\n",
    "import requests\n",
    "try:\n",
    "    response = requests.get('http://example.com', timeout=(0.001, 0.002)) # 1毫秒 # 2毫秒\n",
    "    response.text\n",
    "except Exception as e:\n",
    "    print(e)\n",
    "\n",
    "# requests.exceptions.ConnectTimeout或requests.exceptions.ReadTimeout异常。"
   ]
  },
  {
   "cell_type": "markdown",
   "id": "e84d48b2",
   "metadata": {},
   "source": [
    "###### 1.6 一些其他暂时未使用的参数，只做记录\n",
    "auth: (可选) Auth tuple以启用基本/摘要/自定义HTTP认证。            \n",
    "allow_redirects: (可选) 布尔值，允许/禁止GET/OPTIONS/POST/PUT/PATCH/DELETE/HEAD请求的重定向。默认为True。          \n",
    "proxies: (可选) 字典，用于指定访问URL时使用的代理。          \n",
    "verify: (可选) 布尔值或字符串。如果是布尔值，它控制是否验证服务器的TLS证书；如果是字符串，它必须是一个路径，指向一个CA证书。          \n",
    "stream: (可选) 布尔值，如果为True，则立即下载响应内容。默认为False。          \n",
    "cert: (可选) 字符串或包含客户端证书文件的路径的元组。          "
   ]
  },
  {
   "cell_type": "markdown",
   "id": "e4f0622b",
   "metadata": {},
   "source": [
    "### Requests库知识\n",
    "###### 三、get 请求   part2 处理请求后得到的对象\n",
    "（1）对象类型 （2）查看startline （3）查看headers （4）查看处理body jsonstr处理 二进制字节流处理"
   ]
  },
  {
   "cell_type": "code",
   "execution_count": null,
   "id": "8937e7e9",
   "metadata": {},
   "outputs": [],
   "source": [
    "# 2. 查看响应对象类型\n",
    "import requests \n",
    "response = requests.get('http://www.baidu.com')\n",
    "print(type(response)) # <class 'requests.models.Response'>"
   ]
  },
  {
   "cell_type": "code",
   "execution_count": null,
   "id": "e15b83b7",
   "metadata": {},
   "outputs": [],
   "source": [
    "# 3. http响应消息中的startline 查看方法\n",
    "# 3.1 查看使用的HTTP协议 要访问response.raw属性\n",
    "print(response.raw.version) # 不是11就是10除以10得到1.1/1.0 代表使用的HTTP协议\n",
    "# 3.2 查看结果状态码\n",
    "print(response.status_code) # 200 状态码中的成功\n",
    "# 3.3 查看结果状态消息\n",
    "print(response.reason) # OK 状态消息中的成功"
   ]
  },
  {
   "cell_type": "code",
   "execution_count": null,
   "id": "70f6fbea",
   "metadata": {},
   "outputs": [],
   "source": [
    "# 4. http响应消息中的标头 查看方法\n",
    "# 查看响应头部headers，响应头部包含了关于响应的元信息，如内容类型、内容长度、服务器信息、缓存控制等等，对于理解和处理响应非常重要。\n",
    "print(response.headers)"
   ]
  },
  {
   "cell_type": "code",
   "execution_count": null,
   "id": "a6cdcfe1",
   "metadata": {},
   "outputs": [],
   "source": [
    "# 5. http响应消息体中的body 查看方法\n",
    "# 5.1 str文本类型的处理建议使用text属性，requests库基于标头中的content_type，比如上面例子中请求github到手的headers中包含的\n",
    "# 'Content-Type': 'application/json; charset=utf-8',去解码字节流，如果未能获取解码，默认采用ISO-8859-1 作为默认编码\n",
    "response.encoding = 'utf-16' # 你明确知道的情况下，可以对encoding 属性手动赋值进去，他是可读可写的\n",
    "print(response.encoding) # 必定打印utf-16\n",
    "print(response.text) # 采取错误解码就会乱码"
   ]
  },
  {
   "cell_type": "code",
   "execution_count": null,
   "id": "2ddee7ba",
   "metadata": {},
   "outputs": [],
   "source": [
    "# 5.1.1 str类型的文本必定会有的问题格式转化，也是requests库比urllib3高级的点，自带json方法处理字符串为字典\n",
    "# response2 = requests.get(url = r'https://mini.iboxgame.io/game/getRate',params = {\"from\":fc,\"to\":tc})\n",
    "print(type(response2.text)) # <class 'str'> 也就意味着无法直接拿去使用\n",
    "print(type(response2.json()  )) # <class 'dict'> 处理后变成了字典\n",
    "data = response2.json() # 处理json字符串为python中的容器字典 抛出 非json格式就会抛出json.decoder.JSONDecodeError异常。\n",
    "currency_rate_dict = data['data']\n",
    "currency_rate_dict"
   ]
  },
  {
   "cell_type": "code",
   "execution_count": null,
   "id": "b1e01d88",
   "metadata": {},
   "outputs": [],
   "source": [
    "# 5.1.2 处理为字典的数据可以继续转变为dataframe\n",
    "import pandas as pd\n",
    "pd.DataFrame(data = [currency_rate_dict])"
   ]
  },
  {
   "cell_type": "code",
   "execution_count": null,
   "id": "68b4b54b",
   "metadata": {},
   "outputs": [],
   "source": [
    "# 5.1.3 python中自带的处理json字符串为字典这个数据结构的方式\n",
    "import json\n",
    "\n",
    "# 准备一个测试数据\n",
    "person = {\n",
    "    \"name\": \"John\",\n",
    "    \"age\": 30,\n",
    "    \"is_student\": False\n",
    "}\n",
    "\n",
    "# 证明他是一个字典\n",
    "print(\"初始测试person的类型是：\",type(person)) # <class 'dict'>\n",
    "\n",
    "# 字典转JSON字符串\n",
    "json_string = json.dumps(person) # 序列化\n",
    "print(\"json_string的类型是：\",type(json_string)) #  <class 'str'>\n",
    " \n",
    "# JSON字符串转字典模式\n",
    "person_dict = json.loads(json_string) # 反序列化\n",
    "print(\"person_dict的类型是：\",type(person_dict)) # <class 'dict'>"
   ]
  },
  {
   "cell_type": "markdown",
   "id": "7529d3f5",
   "metadata": {},
   "source": [
    "### 进一步补充关于json字符串的知识\n",
    "JSON（JavaScript Object Notation）是一种轻量级的数据交换格式，易于人阅读和编写，同时也易于机器解析和生成。它是基于JavaScript语言标准ECMA-262第三版的一个子集。JSON采用完全独立于编程语言的文本格式，这些特性使得JSON成为理想的数据交换语言。\n",
    "\n",
    "JSON支持以下数据类型：\n",
    "\n",
    "对象 (Object): 对象在 JSON 中是一组无序的键值对（key/value pairs）的集合。它以左花括号 { 开始，右花括号 } 结束。每个键后面跟着一个冒号 :，键值对之间用逗号 , 分隔。键必须是字符串，而值可以是任何数据类型。在 Python 中，它被表示为 dict。\n",
    "\n",
    "json\n",
    "复制\n",
    "{\n",
    "    \"name\": \"Alice\",\n",
    "    \"age\": 25,\n",
    "    \"is_student\": true\n",
    "}\n",
    "```\n",
    "\n",
    "数组 (Array): 数组是值（元素）的有序集合。它以左方括号 [ 开始，右方括号 ] 结束。值之间使用逗号 , 分隔。数组中的元素可以是任何类型的 JSON 数据。在 Python 中，它被表示为 list。\n",
    "\n",
    "json\n",
    "复制\n",
    "[100, \"Alice\", true, null]\n",
    "```\n",
    "\n",
    "数值 (Number): JSON 数值可以是整数或浮点数，与 JavaScript 的数值相同。JSON 数值不能有前导零，但可以有正负号，也可以是科学计数法表示的。\n",
    "\n",
    "json\n",
    "复制\n",
    "42\n",
    "```\n",
    "\n",
    "````json\n",
    "-1.23\n",
    "```\n",
    "\n",
    "````json\n",
    "3.14e-10\n",
    "```\n",
    "\n",
    "字符串 (String): 字符串是由双引号 \" 包裹的任意字符序列，使用反斜杠 \\ 作为转义字符。JSON 字符串必须是有效的 Unicode 文本。\n",
    "\n",
    "json\n",
    "复制\n",
    "\"Hello, World!\"\n",
    "```\n",
    "\n",
    "布尔值 (Boolean): JSON 有两个布尔值：true 和 false，它们直接用这两个词表示。\n",
    "\n",
    "json\n",
    "复制\n",
    "true\n",
    "```\n",
    "\n",
    "````json\n",
    "false\n",
    "```\n",
    "\n",
    "null: JSON 使用 null 表示空值或不存在的值。\n",
    "\n",
    "json\n",
    "复制\n",
    "null\n",
    "```\n",
    "JSON 的语法规则比较简单：\n",
    "\n",
    "数据在名称/值对中：名称使用双引号表示，值的类型可以是字符串、数值、对象、数组、布尔值或 null。\n",
    "数据由逗号分隔。\n",
    "花括号保存对象。\n",
    "方括号保存数组。\n",
    "JSON 在所有的现代编程语言中都有着广泛的支持，这意味着几乎在所有语言中都有解析 JSON 的方法和库。在 Python 中，可以使用内置的 json 模块来处理 JSON 数据，包括将数据结构转换成 JSON 字符串（序列化）和从 JSON 字符串转换回数据结构（反序列化）。"
   ]
  },
  {
   "cell_type": "code",
   "execution_count": null,
   "id": "37da24a7",
   "metadata": {},
   "outputs": [],
   "source": [
    "# 5.2 二进制数据，如下载文件、图片等 非常推荐使用content获取内容，requests库返回的是原始的未被编码的响应体\n",
    "print(response.content)\n",
    "# 如果是图片，可以基于这个办法去存储\n",
    "with open('image.png', 'wb') as f:\n",
    "    f.write(response.content)\n",
    "\n",
    "# 后文post有个文件上传test，其响应的content并非是纯净的二进制字节流，需要解码找到base64编码部分，再转化为二进制才能储存，所以要特别注意    \n",
    "    \n",
    "# # 补充上面这种写法的解释\n",
    "# with 语句：上下文处理器，确保其下代码报错的情况时，依旧正常的关闭打开的文件避免丢失\n",
    "# open 函数：内置函数，用于打开一个文件并返回一个文件对象，上面中打开的是相对路径下的image.png，没给完整存储路径，默认在同一个文件夹下面\n",
    "# 第一个参数：指定文件名，如果没找到将会自动创建\n",
    "# 第二个参数wb：指定打开的方式，w代表write，b代表binary二进制，这对于非文本文件（如图像、视频、音频、可执行文件等）是必要的。\n",
    "#              其他 r  代表只读\n",
    "#              其他 rb 代表二级制只读\n",
    "#              其他 w+ 代表读写\n",
    "#              其他 a  代表追加\n",
    "# as f :代表着对象的别名为f\n",
    "# f.write(response.content):响应正文body，字节流未编码，将被写入到文件对象中，最后自动close无需写 f.close()"
   ]
  },
  {
   "cell_type": "markdown",
   "id": "cfd098b4",
   "metadata": {},
   "source": [
    "除去上文描述的content,text方式获取响应体内容外 body     \n",
    "response.raw\n",
    "response.raw提供的是一个原始的响应流（raw response stream）。\n",
    "要访问response.raw，你需要在发起请求时设置stream=True。\n",
    "response.raw数据没有被解码，提供的是来自底层的urllib3的原始数据。\n",
    "你可以用response.raw来获取大文件或数据流，这样可以边下载边保存，而不是一次性下载整个内容到内存中。\n",
    "例如：\n",
    "\n",
    "response = requests.get('http://example.com', stream=True)\n",
    "raw_data = response.raw\n",
    "\n",
    "如果你想要读取response.raw的数据，你需要使用.read()方法，可能还要考虑使用io库中的BytesIO进行缓冲。\n",
    "\n",
    "使用response.raw时通常需要额外的注意，因为它是低级的数据访问方式。大多数情况下，如果你只是需要访问响应内容，使用response.content就足够了。而response.raw用于特殊情况，比如你需要处理流式传输的数据。"
   ]
  },
  {
   "cell_type": "code",
   "execution_count": null,
   "id": "829fd37c",
   "metadata": {},
   "outputs": [],
   "source": [
    "# 6. 其他非响应消息体信息\n",
    "print(\"内容的编码：\",response.encoding) # utf-8 一般会是解读标头获取，默认ISO-8859-1，可以赋值覆盖解码方式\n",
    "print(\"请求URL：\",response.url) # 打印url一般可以用于查看查询参数的拼接，这个在http中的请求形式中增加查询参数中提到过，在get中用params参数提供给方法\n",
    "print(\"历史调用情况，便于重定向：\",response.history)\n",
    "\n",
    "# 7. 查看请求消息体的一些基本属性\n",
    "print(\"查看自己的请求体对象：\",response3.request)\n",
    "print(response3.request.headers) # 打印头\n",
    "print(response3.request.body) # 打印身体\n",
    "print(response3.request.method) # 打印http请求方法\n",
    "print(response3.request.url) # 打印http请求方法\n",
    "\n",
    "# 8. 查看未经处理的原始响应体，直接访问从服务器返回的原始字节流的情况特别有用，例如，你可能想要以字节的形式保存图片或其他二进制文件。\n",
    "# 这个特性看起来和content有点重复，但实际应该是用于回退对象为urllib3的一种方式，这样可以使用urllib库的属性和方法，比如获取更加底层的协议\n",
    "print(response.raw) # <urllib3.response.HTTPResponse object at 0x000001C4141CFB20> "
   ]
  },
  {
   "cell_type": "markdown",
   "id": "4ae1e1b7",
   "metadata": {},
   "source": [
    "######  其他只做了解\n",
    "cookies     \n",
    "用法: response.cookies 是一个RequestsCookieJar对象，它包含了服务器发送的所有cookie。    \n",
    "使用场景: 当你需要获取或处理服务器设置的cookie时，可以使用这个属性。这对于需要维护会话状态的爬虫或客户端应用尤其有用。     \n",
    "elapsed     \n",
    "用法: response.elapsed 是一个datetime.timedelta对象，表示从发送请求到收到响应之间经过的时间。   \n",
    "使用场景: 用于性能监测，可以帮助你衡量请求的效率。例如，你可能想统计请求响应时间，以确定是否需要优化。    "
   ]
  },
  {
   "cell_type": "markdown",
   "id": "74214f99",
   "metadata": {},
   "source": [
    "### Requests库知识\n",
    "###### 四、post 请求  基础知识补充\n",
    "（1）get 与 post的对比 （2）Api/服务器接收什么样的数据 （3）序列化数据 并指定Content_Type 用于接收方正确解析"
   ]
  },
  {
   "cell_type": "markdown",
   "id": "8aa0a47f",
   "metadata": {},
   "source": [
    "###### （一）get 与 post的对比 \n",
    "1. get确实更多用于请求获取数据，post更多用于推送数据给服务器，但是这个理解是偏粗浅的；\n",
    "2. get方法url编码的查询参数的使用也是可以传递数据给服务器指定查询细节的，但是通常都只用于检索，服务器不会接收get携带的body，所以参数里也没这个\n",
    "3. post更适合推送数据是因为他不放在url里面而在body正文里面，至少不会在服务器日志和浏览器中被看到，且数据长度类型不受限制\n",
    "4. 但无论哪种，真正的安全源于加密，也即TLS/SSL https，否则第三方都是可以截取的"
   ]
  },
  {
   "cell_type": "markdown",
   "id": "d3f8c6dd",
   "metadata": {},
   "source": [
    "###### （二）Api接口/服务器接收什么样的数据？\n",
    "API接口或服务器能够接收多种类型的数据，这取决于接口的设计和预期用途。下面是一些常见的数据类型，它们可以通过HTTP请求的正文（body）发送：    \n",
    "1. 表单数据 (application/x-www-form-urlencoded): 这是HTML表单提交时默认的编码格式。数据在发送前会被编码成键值对，键和值之间用等号=连接，每对键值对之间用&分隔。\n",
    "2. 多部分表单数据 (multipart/form-data): 通常用于文件上传。在这种格式中，表单的每个部分都被发送为消息的一部分，每部分都有可能有不同的Content-Type。\n",
    "3. JSON (application/json): JSON（JavaScript Object Notation）是一种轻量级的数据交换格式，易于人阅读和编写，也易于机器解析和生成。它基于JavaScript的对象语法，但是独立于语言，代码可以在任何支持JSON的语言中编写。\n",
    "4. XML (application/xml, text/xml): XML（可扩展标记语言）是一种标记语言，用于编码文档，格式既易于阅读又易于机器解析。\n",
    "5. 纯文本 (text/plain): 有时候，API可能只需要纯文本数据。\n",
    "6. 二进制数据 (application/octet-stream): 对于图像、音频、视频以及其他未分类的文件或数据流，可以使用二进制格式传输。\n",
    "7. YAML (text/yaml): 一些API可能接受YAML，这是一种人类可读的数据序列化格式。\n",
    "8. 自定义格式: 一些API可能有特殊的数据格式需求，可以通过自定义的Content-Type来交换数据。\n",
    "\n",
    "要了解一个特定的API接口接受什么样的数据，你应该查看该API的文档。文档应该详细说明所支持的请求方法（如GET、POST、PUT、DELETE等）、所期望的数据格式、请求参数、以及任何请求头（headers）或身份验证（authentication）要求。如果没有文档，你可能需要联系API的提供者，或者使用网络抓包工具来分析API的通信协议。"
   ]
  },
  {
   "cell_type": "markdown",
   "id": "c3a0a5c3",
   "metadata": {},
   "source": [
    "###### （三）序列化数据\n",
    "1. 在HTTP请求中发送数据时，序列化通常是必要的，**因为HTTP协议是文本协议，它并不直接支持复杂的数据结构如对象、数组等**。序列化就是将这些结构转换为字符串形式，以便可以通过HTTP请求发送。\n",
    "编码类型   对应标头      request 是否自动序列化\n",
    "2. 表单提交 ：application/x-www-form-urlencoded或multipart/form-data格式的字符串 data参数自动序列化（限字典数据类型）\n",
    "3. 发送JSON ：application/json json参数自动序列化（能json序列化的数据类型都行）\n",
    "4. 发送XML或其他文本格式 ： application/xml    text/xml    手动序列化到指定的格式，requests没有协助你 \n",
    "5. 纯文本： text/plain 用于发送未格式化的纯文本   这个是无需序列化的\n",
    "6. 二进制数据： application/octet-strea 用于发送任意的二进制数据。 这个是无需序列化的\n",
    "7. YAML： text/yaml：YAML并不是一种标准的Content-Type，但有些API可能会接受这种格式。通常，YAML数据会被发送为文本类型。 在Python中，可以使用 yaml.dump() 方法，如果需要的话。\n",
    "8. HTML文档：text/html：用于发送HTML格式的内容。 HTML内容被转换为字符串。\n",
    "9. JavaScript： application/javascript：用于传输JavaScript文件或代码。 JavaScript代码被转换为字符串。\n",
    "10. CSS： text/css：用于传输CSS文件。 CSS代码被转换为字符串。\n",
    "11. 图像类型： image/png：用于PNG图像。  image/jpeg：用于JPEG图像。  image/gif：用于GIF图像。 图像数据通常以二进制形式直接发送，不需要序列化为字符串。"
   ]
  },
  {
   "cell_type": "markdown",
   "id": "3167b808",
   "metadata": {},
   "source": [
    "### Requests库知识\n",
    "###### 四、post 请求  Part1 发起请求\n",
    "（1）简单的post请求 （2）能传输的数据类型与对应的标头 （3）headers 和cookies （4）files参数传输文件 （5）其他暂时用不上的参数"
   ]
  },
  {
   "cell_type": "code",
   "execution_count": null,
   "id": "f91de2bf",
   "metadata": {},
   "outputs": [],
   "source": [
    "# 1. 发起最简单的post 请求\n",
    "import requests\n",
    "url = 'http://httpbin.org/post'\n",
    "response = requests.post(url)\n",
    "response.text"
   ]
  },
  {
   "cell_type": "markdown",
   "id": "4be81003",
   "metadata": {},
   "source": [
    "###### 2. post 指定 data,json,params 携带负载正文  下面还有个files参数会用到多表单\n",
    "参数里面比较常见的是 data json 这两个负载数据的，故优先解释这两个参数，同时也是数据装的地方，填这个参数数据就会在body里面  \n",
    "同时 params 参数post也有，和get一样 用于url ? 参数拼接，主要用于传递额外的信息，比如身份验证的令牌、API版本号或其他用于控制请求行为的参数      \n",
    "（1）data 参数：数据负载正文            \n",
    "发送给服务器的表单数据，可以接受字典、字节序列、文件对象或元组的列表。           \n",
    "**仅在字典时自动序列化为表单模式**       如： a=1&b=2 \n",
    "**仅字典类型，会设置Content-Type = 'application/x-www-form-urlencoded'**   \n",
    "\n",
    "（2）json 参数：数据负载正文        \n",
    "传递可序列化为json的数据类型，通常是字典，会自动序列化为json字符串，  如：\"a\":\"1\",\"b\":\"2\"         \n",
    "使用本参数默认给出Content-Type = application/json。            \n",
    "\n",
    "（3）params 参数：数据放在url\n",
    "遵循url编码（百分号编码）放置在url中给出非常危险的行为，所以一般不会把数据放这里，只会放一些不重要的补充信息            \n",
    "但是在adjust中有这样的s2s传输示例：         \n",
    "curl --location --request POST  含 URL 参数的 POST                    \n",
    "'https://s2s.adjust.com/event?s2s=1&event_token=f0ob4r&app_token=4w565xzmb54d&idfa=D2CADB5F-410F-4963-AC0C-2A78534BDF1E          \n",
    "curl --location  含 URL 参数的 GET    \n",
    "'https://s2s.adjust.com/event?s2s=1&event_token=f0ob4r&app_token=4w565xzmb54d&idfa=D2CADB5F-410F-4963-AC0C-2A78534BDF1E          "
   ]
  },
  {
   "cell_type": "code",
   "execution_count": null,
   "id": "64decc14",
   "metadata": {},
   "outputs": [],
   "source": [
    "# 2.1 实际推送试下 content_type 是否改变\n",
    "import requests\n",
    "import json\n",
    "url = 'http://httpbin.org/post'\n",
    "data = {'key': 'value'} \n",
    "json = json.dumps(data)\n",
    "\n",
    "# 2.1表单数据\n",
    "# response = requests.post(url,data = data)  # 字典自动序列化为表单，所以固定 'application/x-www-form-urlencoded' \n",
    "# response.request.headers # 'application/x-www-form-urlencoded' \n",
    "\n",
    "# 2.2 JSON数据\n",
    "response = requests.post(url,json = data)  # 自动序列化字典，所以只要json参数必定指定'application/json' \n",
    "response.request.headers # 'application/json' \n",
    "\n",
    "# 补充关于ad的事情 以下是一个带正文的post示例，正文即为body 通过data/json参数写入正文 选择哪个参数看header 表单数据 所以选data 参数 字典数据传输\n",
    "# curl --location 'https://s2s.adjust.com/event' \\\n",
    "# --header 'Content-Type: application/x-www-form-urlencoded' \\\n",
    "#--data 's2s=1&event_token=f0ob4r&app_token=4w565xzmb54d&idfa=D2CADB5F-410F-4963-AC0C-2A78534BDF1E&created_at=2017-01-02T15%3A04%3A05Z%2B0200&callback_params=%7B%22f0o%22%3A%22bar%22%2C%20%22bar%22%3A%22baz%22%7D&partner_params=%7B%22f0o%22%3A%22bar%22%2C%20%22bar%22%3A%22baz%22%7D'"
   ]
  },
  {
   "cell_type": "markdown",
   "id": "f9baf9eb",
   "metadata": {},
   "source": [
    "###### 3. post 指定 headers 和 cookies 改变消息体中的headers部分\n",
    "和get一样，可以使用 headers 参数 和 cookies 参数去准备标头\n",
    "这里不再详细解释，直接看get对于这两个参数的使用"
   ]
  },
  {
   "cell_type": "markdown",
   "id": "8e7fe1f1",
   "metadata": {},
   "source": [
    "###### 4.post 指定 files参数 上传文件\n",
    "**参数解释**     \n",
    "（1）files参数接受一个字典，字典的键是表单字段的名称，字典的值是文件相关的信息。如： {'name': file-tuple}         \n",
    "（2）file-tuple可以是二元组(filename, fileobj)、三元组(filename, fileobj, content_type)或四元组(filename, fileobj, content_type, custom_headers)。    \n",
    "（3）二元组 代表 文件名称，文件字节流           \n",
    "（4）三元组 代表 文件名称，文件字节流，文件传输类型（MIME类型 标头中的content_type）         \n",
    "（5）四元组 代表 文件名称，文件字节流，文件传输类型（MIME类型 标头中的content_type），自定义标头  \n",
    "**content_type**              \n",
    "（1）files参数默认设置content_type为multipart/form-data编码         \n",
    "**与直接data传输区别**         \n",
    "（1）使用requests库的files参数时，它会自动为你处理multipart/form-data请求的构建。从而让服务器知道这是个文件         \n",
    "（2）data也可以用于传输文件，但是构造multipart/form-data需要你自己手动处理，容易出错，不推荐         \n",
    "（3）files参数允许你在单个请求中发送多个文件和表单字段，能够在HTTP请求中标识文件的名称、内容类型和内容，是标准化的封装格式         "
   ]
  },
  {
   "cell_type": "code",
   "execution_count": null,
   "id": "f6d21736",
   "metadata": {},
   "outputs": [],
   "source": [
    "# 4.1 示例传输文件\n",
    "import requests\n",
    "import logging\n",
    "logging.basicConfig(level = logging.INFO)\n",
    "url = r'http://httpbin.org/post'\n",
    "with open(r\"D:\\1-script\\3-PYTHON\\image存储jupyter在用的图片存放于此\\http传输协议传输过程演示.jpg\",\"rb\") as f:\n",
    "    logging.info(type(f)) # <class '_io.BufferedReader'> 提供缓冲读取操作的文件对象\n",
    "    logging.info(f.read()) # 原始的二级制字节流，如果等下解码拿不到这个就是错误的 ,注意读取文件后，指针已经走到末尾，需要归还到起始\n",
    "    f.seek(0) # 归零指针 \n",
    "    response = requests.post(url = url, files = {'test':('test',f,'image/jpg')},    )"
   ]
  },
  {
   "cell_type": "code",
   "execution_count": null,
   "id": "8ab37b8c",
   "metadata": {},
   "outputs": [],
   "source": [
    "# 4.1.1 查看请求头部的headers\n",
    "response.request.headers # 'multipart/form-data\n",
    "# response.status_code"
   ]
  },
  {
   "cell_type": "code",
   "execution_count": null,
   "id": "eacb4021",
   "metadata": {},
   "outputs": [],
   "source": [
    "# 4.1.2 查看响应的内容并还原图片\n",
    "import json\n",
    "import base64\n",
    "\n",
    "save_file_path = r\"D:\\1-script\\3-PYTHON\\image存储jupyter在用的图片存放于此\\接口回传图片再次保存本地.jpg\"\n",
    "\n",
    "# 解析JSON响应内容\n",
    "data = response.json()['files']['test'] # 从响应中解析到图片信息\n",
    "print(type(data)) # <class 'str'>\n",
    "\n",
    "data # base编码的字符串 \n",
    "# 前半段是：data:image/jpg;base64 具体解释如下\n",
    "# data: 协议标识符。\n",
    "# image/jpg MIME类型，表明数据是一张JPEG格式的图片。\n",
    "# base64 表明数据以Base64编码。\n",
    "\n",
    "# 后半段是实际的base64编码信息\n",
    "\n",
    "# 解析这个编码信息\n",
    "# logging.info(data.split(sep = ',',maxsplit = 1)[1] )\n",
    "image_binary = base64.b64decode(data.split(sep = ',',maxsplit = 1)[1])\n",
    "image_binary # 应该是和请求时一样的二进制字节流\n",
    "\n",
    "with open(save_file_path,'wb') as f:\n",
    "    f.write(image_binary)"
   ]
  },
  {
   "cell_type": "code",
   "execution_count": null,
   "id": "b3fe68b2",
   "metadata": {},
   "outputs": [],
   "source": [
    "# 4.1.3 演示一次请求传输复数的文件 另一种方法是定义一个文件传输函数 ，复数调用即可\n",
    "# 实际是在files 参数中给出复数的文件\n",
    "import requests\n",
    "import base64\n",
    "import contextlib # 上下文管理器\n",
    "\n",
    "# 1. 准备文件路径和测试网址\n",
    "url = r'http://httpbin.org/post'\n",
    "\n",
    "files_path = (r\"D:\\1-script\\3-PYTHON\\image存储jupyter在用的图片存放于此\\响应的构成 - 副本.jpg\",\n",
    "              r\"D:\\1-script\\3-PYTHON\\image存储jupyter在用的图片存放于此\\额外问题-测试用图片 - 副本.jpg\",\n",
    "              r\"D:\\1-script\\3-PYTHON\\image存储jupyter在用的图片存放于此\\ad打点示例测试用图片 - 副本.jpg\"\n",
    "             )\n",
    "# 2.批量打开文件并且上传\n",
    "# 需要一种上下文管理器，保证脱离with模块的语句中打开的各类文件，网络资源在结束后自动关闭，无论是否异常\n",
    "# 因此通过contextlib.ExitStack()类的enter_context方法将多个打开的文件添加到上下文中，以实现必定关闭\n",
    "# 此项操作比单独使用open损害文件的概率更大，测试前请一定备份文件\n",
    "with contextlib.ExitStack() as stack: # ExitStack这个类为你提供了一种灵活的方式来处理多个上下文管理器，它可以动态地组合多个上下文管理器。\n",
    "    \n",
    "    # 2.1 上下文管理器增加打开文件进程  files中每个内容就是每个文件的二进制字节流\n",
    "    files = [stack.enter_context(  open(path,'rb')  )    for  path in files_path] # enter_context 是 ExitStack 的一个方法，它接受一个上下文管理器作为参数，并返回该上下文管理器的结果。\n",
    "    # 2.2 发起post请求 files字段中增加多个键值对\n",
    "    response = requests.post(url = url ,  \n",
    "                             files = {\n",
    "                                 files_path[0].split('\\\\')[-1]:(files_path[0].split('\\\\')[-1],files[0],'image/jpg' )   ,  \n",
    "                                 files_path[1].split('\\\\')[-1]:(files_path[1].split('\\\\')[-1],files[1],'image/jpg' )   ,\n",
    "                                 files_path[2].split('\\\\')[-1]:(files_path[2].split('\\\\')[-1],files[2],'image/jpg' )   ,\n",
    "                             }  \n",
    "                            )\n",
    "\n"
   ]
  },
  {
   "cell_type": "code",
   "execution_count": null,
   "id": "e4e412d8",
   "metadata": {},
   "outputs": [],
   "source": [
    "import base64\n",
    "import os # os.path.join 函数会根据操作系统的类型来正确地添加路径分隔符\n",
    "\n",
    "# 4.1.4 解码复数的文件\n",
    "image_binarys = []\n",
    "save_path = r\"D:\\1-script\\3-PYTHON\\image存储jupyter在用的图片存放于此\"\n",
    "\n",
    "for key,values in response.json()['files'].items():\n",
    "    image_binary = base64.b64decode(values.split(sep = ',',maxsplit = 1)[1])\n",
    "    image_binarys.append(image_binary)\n",
    "    with open(   os.path.join(save_path, ('传输测试'+key) )   ,    'wb'     ) as f:\n",
    "              f.write(image_binary)"
   ]
  },
  {
   "cell_type": "markdown",
   "id": "1fa95b02",
   "metadata": {},
   "source": [
    "###### 补充 何为MIME类型\n",
    "MIME类型（Multipurpose Internet Mail Extensions）是一种标准，用于指定文档、文件或字节流的性质和格式。最初为了扩展电子邮件协议以支持非ASCII文本和附件，后来它的应用扩展到了Web上，用以描述HTTP协议传输的内容类型。\n",
    "\n",
    "MIME类型由两部分组成，类型（type）和子类型（subtype），中间用斜杠/分隔。例如，text/html中的text是类型，html是子类型，这个MIME类型用来描述HTML文档。\n",
    "\n",
    "常见的MIME类型\n",
    "text/plain: 纯文本，不包含任何格式。\n",
    "text/html: HTML格式的文本，用于网页。\n",
    "text/css: 层叠样式表（CSS）。\n",
    "text/javascript: JavaScript代码。\n",
    "image/jpeg: JPEG格式的图片。\n",
    "image/png: PNG格式的图片。\n",
    "image/gif: GIF格式的图片。\n",
    "application/json: JSON格式的数据。\n",
    "application/xml: XML格式的文档。\n",
    "application/zip: ZIP压缩文件。\n",
    "application/pdf: PDF文档。\n",
    "application/octet-stream: 任意的二进制数据。\n",
    "MIME类型在Web中的应用\n",
    "在Web中，MIME类型通常在以下情况中使用：\n",
    "\n",
    "在HTTP头中: 当Web服务器向浏览器发送文件时，它会在HTTP响应的Content-Type头部中包含文件的MIME类型。这样浏览器就知道如何处理这个文件了。例如，当服务器返回一个CSS文件时，它会使用text/css的MIME类型。"
   ]
  },
  {
   "cell_type": "markdown",
   "id": "8443bb34",
   "metadata": {},
   "source": [
    "在HTML文档中: 在‘<  link  >’和<  script   >等HTML元素中，可以使用type属性指定关联资源的MIME类型。\n",
    "\n",
    "在邮箱客户端中: 当发送带有附件的电子邮件时，邮箱客户端会使用MIME类型来告诉接收客户端如何显示或处理附件。\n",
    "\n",
    "MIME类型在文件上传中的应用\n",
    "当使用HTTP协议上传文件时，客户端应该在Content-Type头部中指定文件的MIME类型，这样服务器就知道收到的文件是什么类型。在使用requests库的files参数上传文件时，可以指定每个文件的MIME类型，以确保服务器正确地识别文件内容。\n",
    "\n",
    "python\n",
    "复制\n",
    "files = {\n",
    "    'file': ('example.jpg', open('example.jpg', 'rb'), 'image/jpeg')\n",
    "}\n",
    "在这个例子中，'image/jpeg'是JPEG图片文件的MIME类型。\n",
    "\n",
    "自定义MIME类型\n",
    "虽然有许多标准的MIME类型，但有时可能需要自定义MIME类型。自定义MIME类型通常使用application/x-作为前缀（例如application/x-my-custom-type），但是自定义MIME类型应该在不与标准MIME类型冲突的情况下谨慎使用。\n",
    "\n",
    "查找MIME类型\n",
    "如果你不确定某个文件的MIME类型，你可以查找MIME类型的参考列表，或使用服务器和浏览器提供的自动MIME类型识别功能。在编程中，也有库可以帮助你根据文件扩展名或文件内容确定MIME类型，如Python的mimetypes模块。"
   ]
  },
  {
   "cell_type": "markdown",
   "id": "51d6cdfe",
   "metadata": {},
   "source": [
    "##### 5. 暂时用不上只做附录的参数        \n",
    "auth: (可选) Auth tuple或可调用对象，用于启用不同类型的认证。      \n",
    "allow_redirects: (可选) 布尔值，用于控制POST请求后是否允许重定向，默认为True。     \n",
    "proxies: (可选) 字典类型，用于设置访问URL时的代理服务器。     \n",
    "verify: (可选) 布尔值或字符串。用于控制是否验证服务器的TLS证书，或者提供一个CA证书的路径。    \n",
    "stream: (可选) 布尔值。如果为True，则不会立即下载响应内容。默认为False。    \n",
    "cert: (可选) 字符串或包含路径的元组，用于指定客户端证书。     "
   ]
  },
  {
   "cell_type": "markdown",
   "id": "8908ecc9",
   "metadata": {},
   "source": [
    "### Requests库知识\n",
    "###### 五、习题-请求语种接口，实现一个翻译脚本"
   ]
  },
  {
   "cell_type": "code",
   "execution_count": null,
   "id": "15a9df90",
   "metadata": {},
   "outputs": [],
   "source": [
    "from google.cloud import translate_v2 as translate\n",
    "translate_client = translate.Client()"
   ]
  },
  {
   "cell_type": "code",
   "execution_count": null,
   "id": "c72e435d",
   "metadata": {},
   "outputs": [],
   "source": [
    "if isinstance(text, bytes):\n",
    "    text = text.decode(\"utf-8\")\n",
    "\n",
    "# Text can also be a sequence of strings, in which case this method\n",
    "# will return a sequence of results for each text.\n",
    "result = translate_client.translate(text, target_language=target)\n",
    "\n",
    "print(\"Text: {}\".format(result[\"input\"]))\n",
    "print(\"Translation: {}\".format(result[\"translatedText\"]))\n",
    "print(\"Detected source language: {}\".format(result[\"detectedSourceLanguage\"]))"
   ]
  },
  {
   "cell_type": "code",
   "execution_count": null,
   "id": "9a1a61dc",
   "metadata": {},
   "outputs": [],
   "source": [
    "import requests\n",
    "\n",
    "# 使用一个免费开源的接口\n",
    "url = 'https://libretranslate.de/languages'\n",
    "\n",
    "# 上面的网址使用get方法获取支持的语言\n",
    "response = requests.get(url = url)"
   ]
  },
  {
   "cell_type": "code",
   "execution_count": null,
   "id": "c781734d",
   "metadata": {},
   "outputs": [],
   "source": [
    "for lists in response.json():\n",
    "    if lists['code'] == 'zh':\n",
    "        print(lists['name'])\n",
    "        targets = lists['targets']\n",
    "\n",
    "targets"
   ]
  },
  {
   "cell_type": "code",
   "execution_count": null,
   "id": "c5d2c1fa",
   "metadata": {},
   "outputs": [],
   "source": [
    "import pandas as pd\n",
    "url = r'https://translate.google.com'\n",
    "data = {\n",
    "'hl' : 'zh-CN',\n",
    "'sl' : 'zh-CN',\n",
    "'tl' : 'en',\n",
    "'text' : '这个世界即将毁灭',\n",
    "'op' : 'translate'\n",
    "}\n",
    "headers = {\n",
    "'user-agent':'Mozilla/5.0 (Windows NT 10.0; Win64; x64) AppleWebKit/537.36 (KHTML, like Gecko) Chrome/120.0.0.0 Safari/537.36',\n",
    "'accept':'application/json'\n",
    "}\n",
    "\n",
    "response = requests.get(url =url,params = data,headers = headers)"
   ]
  },
  {
   "cell_type": "code",
   "execution_count": null,
   "id": "7869e250",
   "metadata": {},
   "outputs": [],
   "source": [
    "import pandas as pd\n",
    "url = r'https://translation.googleapis.com/language/translate/v2'\n",
    "data = {\n",
    "\"q\": [\"Hello world\", \"My name is Jeff\"],\n",
    "\"target\": \"de\"\n",
    "}\n",
    "\n",
    "response = requests.get(url =url,data = data)"
   ]
  },
  {
   "cell_type": "code",
   "execution_count": null,
   "id": "a1f13fae",
   "metadata": {},
   "outputs": [],
   "source": [
    "response.status_code"
   ]
  },
  {
   "cell_type": "code",
   "execution_count": null,
   "id": "37000647",
   "metadata": {},
   "outputs": [],
   "source": [
    "with open(r\"D:\\1-script\\3-PYTHON\\data存储jupyter用的个文件类型数据\\输出谷歌翻译的响应内容.txt\",'w',encoding='utf-8') as f:\n",
    "    f.write(response.text)"
   ]
  },
  {
   "cell_type": "code",
   "execution_count": null,
   "id": "3a847434",
   "metadata": {},
   "outputs": [],
   "source": [
    "import requests\n",
    "url = r'https://www.mxnzp.com/api/convert/translate'\n",
    "\n",
    "params = {\n",
    "'content':'您好',\n",
    "'from':'zh',\n",
    "'to':'bn',\n",
    "'app_id': 'niwguxhxmtjnqkwr',\n",
    "'app_secret': 'SE9YWERRTEI0amtGT0RPVWlYaVUrZz09',\n",
    "}\n",
    "\n",
    "response = requests.get(url = url, params = params)\n"
   ]
  },
  {
   "cell_type": "code",
   "execution_count": null,
   "id": "c71419cd",
   "metadata": {},
   "outputs": [],
   "source": [
    "response.json()"
   ]
  },
  {
   "cell_type": "code",
   "execution_count": null,
   "id": "49ff1bef",
   "metadata": {},
   "outputs": [],
   "source": [
    "41000000202202100014 == 41000000202202100014"
   ]
  },
  {
   "cell_type": "code",
   "execution_count": null,
   "id": "a85a43f8",
   "metadata": {},
   "outputs": [],
   "source": [
    "languages_dict = {lists['code'] :lists['name'] for lists in response.json()}"
   ]
  },
  {
   "cell_type": "code",
   "execution_count": null,
   "id": "3be7b3af",
   "metadata": {},
   "outputs": [],
   "source": [
    "import requests\n",
    "\n",
    "source_language = \"en\"\n",
    "target_language = \"ch\"\n",
    "text = \"Hello, world!\"\n",
    "\n",
    "base_url = \"https://libretranslate.de/translate\"\n",
    "params = {\n",
    "        \"q\": text,\n",
    "        \"source\": source_language,\n",
    "        \"target\": target_language,\n",
    "        \"format\": \"text\"}\n",
    "headers = {\n",
    "        \"Content-Type\": \"application/json\"\n",
    "    }\n",
    "response = requests.post(base_url, json=params, headers=headers)"
   ]
  },
  {
   "cell_type": "code",
   "execution_count": null,
   "id": "ca9e0769",
   "metadata": {},
   "outputs": [],
   "source": []
  },
  {
   "cell_type": "code",
   "execution_count": null,
   "id": "2e66e831",
   "metadata": {},
   "outputs": [],
   "source": [
    "response.status"
   ]
  },
  {
   "cell_type": "code",
   "execution_count": null,
   "id": "30722e88",
   "metadata": {},
   "outputs": [],
   "source": [
    "languages_dict"
   ]
  },
  {
   "cell_type": "code",
   "execution_count": null,
   "id": "5985bb58",
   "metadata": {},
   "outputs": [],
   "source": [
    "# 公共接口资源：\n",
    "# 测试网站：http://httpbin.org\n",
    "# 聚合网站别费接口：https://www.juhe.cn/\n",
    "# 支付宝，微信，百度等提供的接口"
   ]
  },
  {
   "cell_type": "code",
   "execution_count": null,
   "id": "97b46e14",
   "metadata": {},
   "outputs": [],
   "source": [
    "# 此处是附带tg警告批量化运行失败\n",
    "import requests\n",
    "def send_warm(text):\n",
    "    d = {'chat_id': '-1001984906146', 'text': text}\n",
    "    url = 'https://api.telegram.org/bot6269515048:AAEDo5Qh6_2QluRe8PdubPMf09Vfmv1yn6w/sendMessage'\n",
    "    r = requests.post(url, data=d)\n",
    "    print(r.status_code, r.text)  # 返回的是响应对象，获取code代码，获取响应明细信息"
   ]
  },
  {
   "cell_type": "code",
   "execution_count": null,
   "id": "1699ed62",
   "metadata": {},
   "outputs": [],
   "source": [
    "from google.cloud import bigquery\n",
    "import logging\n",
    "import requests\n",
    "\n",
    "logging.basicConfig(level=logging.INFO)\n",
    "\n",
    "logging.info(\"function开始\")\n",
    "\n",
    "def get_data():\n",
    "    # 准备查询sql\n",
    "    sql = '''\n",
    "    SELECT a.rid,a.type,a.desc FROM `hale-ripsaw-362711.playing_datastream.box_game_manager_t_order_category`  a \n",
    "    order by rid \n",
    "    '''\n",
    "\n",
    "    # 准备客户端\n",
    "    client = bigquery.Client.from_service_account_json(r\"D:\\1-script\\3-PYTHON\\1-游戏项目\\5-bq钥匙访问\\bcg-funbox.json\")\n",
    "\n",
    "    # 发起查询\n",
    "    logging.info(\"function执行查询t_order_category\")\n",
    "    query_object = client.query(sql)\n",
    "\n",
    "    # 尝试接收查询结果，可能报错\n",
    "    try:\n",
    "        query_result = query_object.result() # 查询结果转df\n",
    "        data = [[cell for cell in row] for row in query_result]\n",
    "        logging.info(f\"是否已完成查询：{query_object.done()}\") #记录完成查询\n",
    "    except Exception as e:\n",
    "        logging.error(\"Exception occurred\", exc_info=True, ) #如果报错记录明细信息\n",
    "        text = '@ arnodoran' + 't_order_category类型表查询报错' +'\\n' + str(e)\n",
    "        send_warm(text)\n",
    "      \n",
    "    # 函数结束，返回查询后二维列表化的数据\n",
    "    return data\n"
   ]
  },
  {
   "cell_type": "code",
   "execution_count": null,
   "id": "df536057",
   "metadata": {},
   "outputs": [],
   "source": [
    "from google.oauth2 import service_account\n",
    "from googleapiclient.discovery import build\n",
    "from google.auth.transport.requests import Request\n",
    "\n",
    "data = get_data()\n",
    "\n",
    "service_account_file = r\"D:\\1-script\\3-PYTHON\\1-游戏项目\\5-bq钥匙访问\\bcg-funbox.json\"\n",
    "spreadsheetid = \"15Yu29DHoiRch3ismwnM8wu7VFVCcc3IoLY5uE8VxRxM\" # 代表谷歌sheet的唯一值，通过链接中找到，位于/d/ 和 /edit之间\n",
    "range_name = \"数据写入测试!B:D\"\n",
    "\n",
    "# 使用服务账号的密匙文件建立认证\n",
    "credentials = service_account.Credentials.from_service_account_file(\n",
    "    service_account_file,\n",
    "    scopes=['https://www.googleapis.com/auth/spreadsheets']\n",
    ")\n",
    "\n",
    "# 建立服务\n",
    "service = build('sheets', 'v4', credentials=credentials) # v4是一个api的版本，此为广泛使用的，且支持对电子表格数据进行读写操作的全面功能集。\n",
    "\n",
    "# 建立表格实例\n",
    "sheet_client = service.spreadsheets()\n",
    "\n",
    "# 建立操作要求，指定写入的表、单元格范围、写入方式、写入的二维数据列表\n",
    "operate = sheet_client.values().update(spreadsheetId = spreadsheetid, # 写入的表\n",
    "                                             range=range_name,         # 写入的单元格范围\n",
    "                                             valueInputOption='RAW',   # valueInputOption 有两个可能的值：'RAW' 和 'USER_ENTERED'。\n",
    "                                             body={'values': data})    # 数据体\n",
    "\n",
    "# raw 代表按照字符串不做解释直接填进去\n",
    "# USER_ENTERED 按照用户在网页版 Google Sheets 中输入时的方式进行解释。比如写入公式，写入数值\n",
    "# 还有个批量写入数据的方法spreadsheets.values.batchUpdate 区别在于把range 和  valueInputOption 作为body参数的一部分，是个json格式"
   ]
  },
  {
   "cell_type": "code",
   "execution_count": null,
   "id": "aa6ec20e",
   "metadata": {},
   "outputs": [],
   "source": [
    "response = operate.execute()"
   ]
  },
  {
   "cell_type": "code",
   "execution_count": null,
   "id": "c7cd8e20",
   "metadata": {},
   "outputs": [],
   "source": [
    "from googleapiclient.discovery import build\n",
    "from google.oauth2 import service_account\n",
    "\n",
    "# 服务账号密钥文件路径\n",
    "SERVICE_ACCOUNT_FILE = 'path/to/service/account/credentials.json'\n",
    "\n",
    "# 定义所需的scope\n",
    "SCOPES = ['https://www.googleapis.com/auth/spreadsheets']\n",
    "\n",
    "# 认证并建立服务\n",
    "credentials = service_account.Credentials.from_service_account_file(\n",
    "    SERVICE_ACCOUNT_FILE,\n",
    "    scopes=SCOPES\n",
    ")\n",
    "service = build('sheets', 'v4', credentials=credentials)\n",
    "\n",
    "# Google Sheets文档ID\n",
    "spreadsheet_id = 'your-spreadsheet-id'\n",
    "\n",
    "# 准备批量更新的数据\n",
    "data = [\n",
    "    {\n",
    "        'range': 'Sheet1!A1:B2',\n",
    "        'values': [\n",
    "            ['Row1Col1', 'Row1Col2'],\n",
    "            ['Row2Col1', 'Row2Col2']\n",
    "        ]\n",
    "    },\n",
    "    {\n",
    "        'range': 'Sheet1!C1:D2',\n",
    "        'values': [\n",
    "            ['Row1Col3', 'Row1Col4'],\n",
    "            ['Row2Col3', 'Row2Col4']\n",
    "        ]\n",
    "    }\n",
    "]\n",
    "\n",
    "# 创建请求体\n",
    "body = {\n",
    "    'valueInputOption': 'USER_ENTERED', # 或者 'RAW'\n",
    "    'data': data\n",
    "}\n",
    "\n",
    "# 调用 Google Sheets API 批量更新值\n",
    "request = service.spreadsheets().values().batchUpdate(spreadsheetId=spreadsheet_id, body=body)\n",
    "response = request.execute()\n",
    "\n",
    "# 输出响应结果\n",
    "print(response)"
   ]
  },
  {
   "cell_type": "markdown",
   "id": "f01dbcb5",
   "metadata": {},
   "source": [
    "学习 Python 的 requests 库是一个很好的决定，因为它是一个非常流行且简单易用的库，用于执行 HTTP 请求。下面是一个学习路径和一些推荐资源：\n",
    "\n",
    "学习路径\n",
    "Python 基础：\n",
    "在开始学习 requests 库之前，确保你有坚实的 Python 基础知识，包括了解如何使用变量、函数、类以及如何处理错误和异常。\n",
    "\n",
    "HTTP 基础：\n",
    "了解 HTTP 协议的基础知识，包括请求和响应的结构，HTTP 方法（如 GET 和 POST），状态码，以及请求头和响应头的作用。\n",
    "\n",
    "安装 requests：\n",
    "通过 pip 安装 requests 库：\n",
    "\n",
    "复制\n",
    "pip install requests\n",
    "```\n",
    "\n",
    "学习 requests 的基本使用：\n",
    "从执行简单的 GET 和 POST 请求开始，然后逐步了解如何传递参数、处理响应和处理异常。\n",
    "\n",
    "高级特性：\n",
    "学习使用 requests 的高级特性，如会话对象（Session），SSL 证书验证，代理支持，以及流式请求。\n",
    "\n",
    "实战练习：\n",
    "尝试自己写一些小脚本，如下载网页内容、与 REST API 交互等，实践所学知识。\n",
    "\n",
    "阅读官方文档：\n",
    "``requests` 的官方文档非常完备，是学习的最佳资源之一。它提供了详细的说明和丰富的示例。\n",
    "\n",
    "推荐的书籍和网站\n",
    "官方文档:\n",
    "\n",
    "Requests: HTTP for Humans™ - 官方文档是最好的起点，它包含了所有的基础知识和进阶用法。\n",
    "在线教程和指南:\n",
    "\n",
    "Real Python - 提供了关于 Python 和 requests 库的高质量教程。\n",
    "Python for Beginners - 这个网站有一个专门讲解 requests 的部分。\n",
    "书籍:\n",
    "\n",
    "《Automate the Boring Stuff with Python》 - Al Sweigart 的这本书在讲解 Python 基础的同时，也介绍了如何使用 requests 来自动化网络任务。\n",
    "《Python Requests Essentials》 - 学习如何利用 Python requests 库执行 HTTP 请求，书中有很多实用的示例。\n",
    "视频课程:\n",
    "\n",
    "YouTube - 搜索 “Python requests tutorial” 可以找到许多教程视频。\n",
    "Udemy 或 Coursera - 这些网站提供了一些付费课程，涵盖 Python 编程和特定库的使用。\n",
    "通过上述学习路径和资源，你可以逐步成为使用 requests 库的高手。记住，实践是学习编程的关键，所以不断尝试和实验是非常重要的。"
   ]
  },
  {
   "cell_type": "markdown",
   "id": "d8d99a31",
   "metadata": {},
   "source": [
    "了解 HTTP 协议的基础知识是理解 web 和网络通信的重要一步。以下是一些优秀的资源，你可以通过它们来学习 HTTP 协议的基础知识：\n",
    "\n",
    "在线资源和文档\n",
    "MDN Web Docs (Mozilla Developer Network)\n",
    "MDN HTTP Overview\n",
    "MDN 提供了详细的 HTTP 协议教程，包括请求和响应的结构、HTTP 方法、状态码、请求头和响应头等。\n",
    "\n",
    "W3Schools HTTP Tutorial\n",
    "W3Schools HTTP\n",
    "W3Schools 提供了一个简单易懂的 HTTP 教程，适合初学者快速入门。\n",
    "\n",
    "HTTP | REST API Tutorial\n",
    "REST API Tutorial\n",
    "这个网站提供了详细的解释，特别是关于 RESTful API 和 HTTP 方法的使用。\n",
    "\n",
    "HTTP Made Really Easy\n",
    "HTTP Made Really Easy\n",
    "这是一篇较老但内容丰富的教程，详细解释了 HTTP 协议的各个方面。\n",
    "\n",
    "互动学习平台\n",
    "Codecademy\n",
    "Codecademy - Learn to use HTTP\n",
    "在 Web 开发学习路径中，Codecademy 提供了 HTTP 协议的互动学习课程。\n",
    "\n",
    "Khan Academy\n",
    "Khan Academy - Internet 101\n",
    "Khan Academy 提供了关于互联网工作原理的基础课程，其中也包括了 HTTP 协议的讲解。\n",
    "\n",
    "视频教程\n",
    "YouTube\n",
    "搜索相关的关键词，如“HTTP basics”，“HTTP tutorial”等。有很多质量较高的免费视频教程可供选择。\n",
    "书籍\n",
    "《HTTP: The Definitive Guide》\n",
    "这本书由 David Gourley 和 Brian Totty 著作，是学习 HTTP 协议非常全面的资源。\n",
    "\n",
    "《HTTP Essentials: Protocols for Secure, Scaleable Web Sites》\n",
    "这本书专注于 HTTP 协议的基础知识，适合初学者阅读。\n",
    "\n",
    "通过上述资源的学习，你可以建立起对 HTTP 协议的全面理解。不过，互联网上的资源更新很快，所以在学习过程中，不妨经常查看官方文档和权威网站的最新信息。"
   ]
  },
  {
   "cell_type": "code",
   "execution_count": 1,
   "id": "3ce86f28-7484-4094-a2d7-0a10fbbfbd03",
   "metadata": {},
   "outputs": [
    {
     "ename": "NameError",
     "evalue": "name 'who' is not defined",
     "output_type": "error",
     "traceback": [
      "\u001b[1;31m---------------------------------------------------------------------------\u001b[0m",
      "\u001b[1;31mNameError\u001b[0m                                 Traceback (most recent call last)",
      "Cell \u001b[1;32mIn[1], line 2\u001b[0m\n\u001b[0;32m      1\u001b[0m \u001b[38;5;66;03m#who = '我' # 环境变量\u001b[39;00m\n\u001b[1;32m----> 2\u001b[0m \u001b[38;5;28mprint\u001b[39m(\u001b[38;5;124mf\u001b[39m\u001b[38;5;124m'\u001b[39m\u001b[38;5;132;01m{\u001b[39;00mwho\u001b[38;5;132;01m}\u001b[39;00m\u001b[38;5;124m是上帝\u001b[39m\u001b[38;5;124m'\u001b[39m)\n",
      "\u001b[1;31mNameError\u001b[0m: name 'who' is not defined"
     ]
    }
   ],
   "source": [
    "#who = '我' # 变量 \n",
    "print(f'{who}是上帝') # 程序"
   ]
  }
 ],
 "metadata": {
  "kernelspec": {
   "display_name": "Python 3 (ipykernel)",
   "language": "python",
   "name": "python3"
  },
  "language_info": {
   "codemirror_mode": {
    "name": "ipython",
    "version": 3
   },
   "file_extension": ".py",
   "mimetype": "text/x-python",
   "name": "python",
   "nbconvert_exporter": "python",
   "pygments_lexer": "ipython3",
   "version": "3.10.16"
  }
 },
 "nbformat": 4,
 "nbformat_minor": 5
}
