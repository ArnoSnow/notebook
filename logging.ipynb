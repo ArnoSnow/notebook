{
 "cells": [
  {
   "cell_type": "code",
   "execution_count": null,
   "id": "2370ec2e",
   "metadata": {},
   "outputs": [],
   "source": [
    "# 直接使用下面的自定义logger的语句 具有同时在控制台和文件中输出日志的能力 格式为\n",
    "# main_logger记录 2024-10-23 13:55:31,172 - D:\\1-script\\3-PYTHON\\2-pythonProject\\main.py[line:60] - INFO: ——————————作业步骤二：基于期刊地址信息 获取 单篇文章全部字符串————————————\n",
    "# 相关参考文档 http://www.360doc.com/content/24/0425/20/7669533_1121451934.shtml"
   ]
  },
  {
   "cell_type": "code",
   "execution_count": null,
   "id": "cd8369ee",
   "metadata": {},
   "outputs": [],
   "source": [
    "import logging\n",
    "def bulid_logger(name:str,filename:str,mode:str,file_level:int,stream_level:int) ->logging.Logger:\n",
    "    # 1 生成一个记录器 设置层级 记录日志\n",
    "    logger = logging.getLogger(name = name) # name参数可用于分层级管理\n",
    "    logger.setLevel(logging.DEBUG) # 此处是控制大层级 等handler处理的时候对于不同的输出目的地还可以定制层级 但被logger过滤的 handler也无法拿到\n",
    "\n",
    "    # 2 生成 2个处理器 并分别设置层级\n",
    "    # 默认就是StreamHandler 但是如果你生成了FileHandler 并 addHandler 则默认的python输出会被替换\n",
    "    # if logger.hasHandlers():  # 只要你给的name不重名 不会出现串味导致重复添加的问题 你要是同名留下这个可以去除内存里重复加入的handler\n",
    "    #     logger.handlers.clear()\n",
    "    stream_handler = logging.StreamHandler()   # 生成一个处理器 决定日志被送往何处 此处生成的是StreamHandler 其参数默认用sys.stderr 即发送到python控制台\n",
    "    file_handler   = logging.FileHandler(filename =  filename,\n",
    "                                         mode     =  mode,  # 'w' 覆盖写入 或者默认的a 追加\n",
    "                                         encoding = 'utf-8',\n",
    "                                         delay=False,   # 默认创建时打开就行 不需要等待写入时才打开文件\n",
    "                                         errors=None    # 'ignore', 会在遇到编码错误时忽略错误，而不是引发异常 'replace',\n",
    "                                        )     # 生成一个记录器 此处生成的是文件日志处理器 FileHandler\n",
    "    stream_handler.setLevel(stream_level)\n",
    "    file_handler.setLevel(file_level)\n",
    "\n",
    "    # 3 生成日志记录格式对象 并为handler设置\n",
    "    formatter = logging.Formatter('%(name)s记录 %(asctime)s - %(pathname)s[line:%(lineno)d] - %(levelname)s: %(message)s')\n",
    "    stream_handler.setFormatter(formatter)\n",
    "    # # 参数\n",
    "    # fmt(str)        : 指定日志消息的格式字符串\n",
    "    # datefmt (str)   : 该参数仅在 fmt 中使用了 '%(asctime)s' 时有效。可以使用 strftime 格式符。\n",
    "    # style(str)      : 默认%符号就行 决定 fmt参数认什么格式的字符 默认的话，才能用下面的这种格式\n",
    "    # validate(bool)  : 默认为True即可 让其校验fmt是否合法\n",
    "    # defaults(dict)  : 可以用来为格式字符串中的变量提供默认值，方便动态格式化 不太需要使用\n",
    "    # # fmt 参数 常用字符解释\n",
    "    # %(asctime)s       日志时间\n",
    "    # %(pathname)s      运行的python程序地址\n",
    "    # %(lineno)d        运行的python程序地址 下python语句行数\n",
    "    # %(levelname)s     日志级别\n",
    "    # %(message)s       日志消息\n",
    "    # %(name)s          记录器名称\n",
    "\n",
    "    # 4 添加两个处理器\n",
    "    logger.addHandler(file_handler)\n",
    "    logger.addHandler(stream_handler)\n",
    "\n",
    "    return logger\n",
    "\n"
   ]
  },
  {
   "cell_type": "code",
   "execution_count": null,
   "id": "de863823",
   "metadata": {},
   "outputs": [],
   "source": [
    "logger = bulid_logger('ss',r\"D:\\1-script\\3-PYTHON\\python实战篇具体案例制作\\家电家具全屋材料清单\\冰箱\\ss.txt\",'w',file_level = logging.DEBUG,stream_level=logging.DEBUG)\n",
    "\n",
    "logger.info('我来')\n",
    "\n",
    "\n"
   ]
  },
  {
   "cell_type": "code",
   "execution_count": null,
   "id": "5adc2e24",
   "metadata": {},
   "outputs": [],
   "source": [
    "# 增加输出时区版本\n",
    "\n",
    "import pytz\n",
    "from datetime import datetime, timezone\n",
    "class CustomFormatter(logging.Formatter):\n",
    "    def __init__(self, fmt=None, tz=pytz.utc):\n",
    "        super().__init__(fmt)\n",
    "        self.tz = tz\n",
    "\n",
    "    def formatTime(self, record, datefmt=None):\n",
    "        # 将时间转换为指定时区\n",
    "        dt = datetime.fromtimestamp(record.created, tz=self.tz)\n",
    "        if datefmt:\n",
    "            return dt.strftime(datefmt)\n",
    "        else:\n",
    "            return dt.isoformat()"
   ]
  },
  {
   "cell_type": "code",
   "execution_count": 1,
   "id": "325fe326",
   "metadata": {},
   "outputs": [],
   "source": [
    "import logging\n",
    "import pytz\n",
    "from datetime import datetime, timezone\n",
    "\n",
    "class CustomFormatter(logging.Formatter):\n",
    "    def __init__(self, fmt=None, tz=pytz.utc):\n",
    "        super().__init__(fmt)\n",
    "        self.tz = tz\n",
    "\n",
    "    def formatTime(self, record, datefmt=None):\n",
    "        # 将时间转换为指定时区\n",
    "        dt = datetime.fromtimestamp(record.created, tz=self.tz)\n",
    "        if datefmt:\n",
    "            return dt.strftime(datefmt)\n",
    "        else:\n",
    "            return dt.isoformat()\n",
    "        \n",
    "def bulid_logger(name:str,filename:str,mode:str,file_level:int,stream_level:int) ->logging.Logger:\n",
    "    # 1 生成一个记录器 设置层级 记录日志\n",
    "    logger = logging.getLogger(name = name) # name参数可用于分层级管理\n",
    "    logger.setLevel(logging.DEBUG) # 此处是控制大层级 等handler处理的时候对于不同的输出目的地还可以定制层级 但被logger过滤的 handler也无法拿到\n",
    "\n",
    "    # 2 生成 2个处理器 并分别设置层级\n",
    "    # 默认就是StreamHandler 但是如果你生成了FileHandler 并 addHandler 则默认的python输出会被替换\n",
    "    # if logger.hasHandlers():  # 只要你给的name不重名 不会出现串味导致重复添加的问题 你要是同名留下这个可以去除内存里重复加入的handler\n",
    "    #     logger.handlers.clear()\n",
    "    stream_handler = logging.StreamHandler()   # 生成一个处理器 决定日志被送往何处 此处生成的是StreamHandler 其参数默认用sys.stderr 即发送到python控制台\n",
    "    file_handler   = logging.FileHandler(filename =  filename,\n",
    "                                         mode     =  mode,  # 'w' 覆盖写入 或者默认的a 追加\n",
    "                                         encoding = 'utf-8',\n",
    "                                         delay=False,   # 默认创建时打开就行 不需要等待写入时才打开文件\n",
    "                                         errors=None    # 'ignore', 会在遇到编码错误时忽略错误，而不是引发异常 'replace',\n",
    "                                        )     # 生成一个记录器 此处生成的是文件日志处理器 FileHandler\n",
    "    stream_handler.setLevel(stream_level)\n",
    "    file_handler.setLevel(file_level)\n",
    "\n",
    "    # 3 生成日志记录格式对象 并为handler设置\n",
    "    time_zone = pytz.timezone('UTC')\n",
    "    formatter = CustomFormatter('%(name)s记录 %(asctime)s - %(pathname)s[line:%(lineno)d] - %(levelname)s: %(message)s',tz =time_zone )\n",
    "    stream_handler.setFormatter(formatter)\n",
    "    # # 参数\n",
    "    # fmt(str)        : 指定日志消息的格式字符串\n",
    "    # datefmt (str)   : 该参数仅在 fmt 中使用了 '%(asctime)s' 时有效。可以使用 strftime 格式符。\n",
    "    # style(str)      : 默认%符号就行 决定 fmt参数认什么格式的字符 默认的话，才能用下面的这种格式\n",
    "    # validate(bool)  : 默认为True即可 让其校验fmt是否合法\n",
    "    # defaults(dict)  : 可以用来为格式字符串中的变量提供默认值，方便动态格式化 不太需要使用\n",
    "    # # fmt 参数 常用字符解释\n",
    "    # %(asctime)s       日志时间\n",
    "    # %(pathname)s      运行的python程序地址\n",
    "    # %(lineno)d        运行的python程序地址 下python语句行数\n",
    "    # %(levelname)s     日志级别\n",
    "    # %(message)s       日志消息\n",
    "    # %(name)s          记录器名称\n",
    "\n",
    "    # 4 添加两个处理器\n",
    "    logger.addHandler(file_handler)\n",
    "    logger.addHandler(stream_handler)\n",
    "\n",
    "    return logger\n",
    "\n"
   ]
  },
  {
   "cell_type": "code",
   "execution_count": 2,
   "id": "eec6be60",
   "metadata": {},
   "outputs": [
    {
     "name": "stderr",
     "output_type": "stream",
     "text": [
      "ss记录 2024-12-03T07:59:14.776394+00:00 - C:\\Users\\yaoyan\\AppData\\Local\\Temp\\ipykernel_28588\\1272460473.py[line:3] - INFO: 我来\n"
     ]
    }
   ],
   "source": [
    "logger = bulid_logger('ss',r\"D:\\1-script\\3-PYTHON\\python实战篇具体案例制作\\家电家具全屋材料清单\\冰箱\\ss.txt\",'w',file_level = logging.DEBUG,stream_level=logging.DEBUG)\n",
    "\n",
    "logger.info('我来')\n",
    "\n",
    "\n"
   ]
  },
  {
   "cell_type": "code",
   "execution_count": 7,
   "id": "46d66518",
   "metadata": {},
   "outputs": [
    {
     "name": "stdout",
     "output_type": "stream",
     "text": [
      "<class 'pytz.tzfile.Asia/Shanghai'>\n",
      "2024-12-03 16:07:39.712145+08:00\n"
     ]
    }
   ],
   "source": [
    "time_zone = pytz.timezone('Asia/Shanghai')\n",
    "print(type(time_zone))\n",
    "china_datetime = datetime.now(tz = time_zone)\n",
    "print(china_datetime)"
   ]
  }
 ],
 "metadata": {
  "kernelspec": {
   "display_name": "Python 3 (ipykernel)",
   "language": "python",
   "name": "python3"
  },
  "language_info": {
   "codemirror_mode": {
    "name": "ipython",
    "version": 3
   },
   "file_extension": ".py",
   "mimetype": "text/x-python",
   "name": "python",
   "nbconvert_exporter": "python",
   "pygments_lexer": "ipython3",
   "version": "3.10.9"
  }
 },
 "nbformat": 4,
 "nbformat_minor": 5
}
