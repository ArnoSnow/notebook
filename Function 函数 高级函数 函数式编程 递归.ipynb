{
 "cells": [
  {
   "cell_type": "markdown",
   "id": "0f6224f1",
   "metadata": {},
   "source": [
    "### Function 理解函数的本质和使用方式\n",
    "###### 一、在Python中，函数是一等公民（first-class citizens）\n",
    "1. 函数的本质是一个可执行的代码 ，并且给与了一个变量名称，指向这个代码所存放的地址；函数的变量也可以重新赋值，这在clas定义中我们动态添加方法时已经见证过，本质是把变量指向的代码地址给变更掉\n",
    "2. 有名称的函数只写名称，不写()，代表读取函数信息；写了()，代表运行变量名称指向的地址存放的代码\n",
    "3. 函数可以被当做参数，比如filter函数就需要函数作为筛选的条件，使用函数作为参数的函数是高级函数\n",
    "4. 函数可以被其他函数返回\n",
    "5. 函数可以被存储在数据结构中，如列表、字典等\n",
    "6. 函数可以是匿名的，也就是不给与变量名称，使用lambda建立匿名函数"
   ]
  },
  {
   "cell_type": "code",
   "execution_count": null,
   "id": "b1b52534",
   "metadata": {},
   "outputs": [],
   "source": [
    "# 1. 赋值给变量\n",
    "# 定义一个函数  定义函数的部分不在这里解释\n",
    "def say_hello():\n",
    "    return \"the world\"\n",
    "\n",
    "# say_hello 本质就是一个变量 作为了函数名称 我们打印他\n",
    "print( say_hello )#<function __main__.say_hello()> 代表主程序定义的say_hello\n",
    "print( id(say_hello) ) # 2124932963856 代码存放地址\n",
    "\n",
    "# 我们再赋值给其他变量这个函数\n",
    "t = say_hello\n",
    "print( t )#<function __main__.say_hello()> 代表主程序定义的say_hello\n",
    "print( id(t) ) # 2124932963856 代码存放地址 指向和say_hello 一样的地址"
   ]
  },
  {
   "cell_type": "code",
   "execution_count": null,
   "id": "3e5b682d",
   "metadata": {},
   "outputs": [],
   "source": [
    "# 2. 展示函数和运行函数\n",
    "# 依旧是上面已经建立的t和say_hello 我们不写() print的是 <function __main__.say_hello()>  读取函数的信息\n",
    "# 写()运行函数\n",
    "print(t()) # the world 是函数定义的运行结果，说明我们运行了函数\n",
    "print(say_hello()) # the world "
   ]
  },
  {
   "cell_type": "code",
   "execution_count": null,
   "id": "845f865f",
   "metadata": {},
   "outputs": [],
   "source": [
    "# 3. 函数作为参数 使用filter函数演示 一般将使用函数作为参数的 函数称之为高级函数（数学概念）\n",
    "# 定义一个序列\n",
    "x = [1,2,3,4,5,6,7,8]\n",
    "\n",
    "# 定义一个函数判断偶数\n",
    "def is_even(x):\n",
    "    return x%2 == 0 \n",
    "\n",
    "# 使用filter函数 返回的是def的is_even函数认为是True的items 生成一个迭代器 list 转为列表\n",
    "list(filter(is_even,x)) # 参数一 function ，指向地址所以不要写() # 参数二 一个可迭代对象iterables 早期函数不接受关键字传参，请位置传参，另外关键字传参需要解析会浪费资源"
   ]
  },
  {
   "cell_type": "code",
   "execution_count": null,
   "id": "6d0a8cf3",
   "metadata": {},
   "outputs": [],
   "source": [
    "# 4. 函数作为函数的返回值示例\n",
    "# 定义函数，这个函数是用于制造相似的函数，factor是用于制造里面的函数用的参数\n",
    "def make_func(factor):\n",
    "    \n",
    "    def multiplier(number):\n",
    "        return number * factor\n",
    "    \n",
    "    return multiplier # return制造出来的函数\n",
    "\n",
    "# 给出factor=3 制造乘以3的函数\n",
    "threefunc = make_func(3)\n",
    "# 给出factor=5 制造乘以5的函数\n",
    "fivefunc = make_func(5)\n",
    "\n",
    "threefunc(10) # 30\n",
    "fivefunc(10) # 50"
   ]
  },
  {
   "cell_type": "code",
   "execution_count": null,
   "id": "a3743ac7",
   "metadata": {},
   "outputs": [],
   "source": [
    "# 5. 函数也可以放置在数据结构里面，比如下面的字典\n",
    "def make_func(factor):\n",
    "    \n",
    "    def multiplier(number):\n",
    "        return number * factor\n",
    "    \n",
    "    return multiplier\n",
    "\n",
    "plus_dict = {i: make_func(i) for i in range(1, 10) if i % 2 == 0}\n",
    "if 2 in plus_dict:\n",
    "    print(plus_dict[2](10))\n",
    "else:\n",
    "    print('NoKeys')"
   ]
  },
  {
   "cell_type": "code",
   "execution_count": null,
   "id": "79d172be",
   "metadata": {},
   "outputs": [],
   "source": [
    "# 6. 函数也可以是匿名的 lambda表达式\n",
    "\n",
    "# 定义一个 列表版本的筛选函数 直接返回给你列表 装入过滤后的值\n",
    "def my_filter2(func,iterables):\n",
    "    return [i for i in iterables if func(i)]\n",
    "\n",
    "# lambda 表达式前置要求 如上面定义的函数一样 简练为一行  return [i for i in iterables if func(i)]\n",
    "# 我们删除定义名称的部分def my_filter2(func,iterables),写关键字lambda，在后面跟,分割的参数，再跟分割符号:，最后写return后面的式子，如下\n",
    "my_filter2 = lambda func,iterables : [i for i in iterables if func(i)] # 把一个表达式赋值给一个变量 如果不复制就拿去用就是匿名的\n",
    "\n",
    "# 把过滤用函数也变成一个表达式\n",
    "is_even = lambda x:  x%2 == 0\n",
    "\n",
    "# 准备iterables\n",
    "x = [1,2,3,4,5,6,7,8]\n",
    "\n",
    "# 运行下 一样好用\n",
    "# my_filter2(is_even,x)  # [2, 4, 6, 8]\n",
    "my_filter2(lambda x:  x%2 == 0,x)  # [2, 4, 6, 8] # 参数func 就是一个匿名函数的典型用例\n"
   ]
  },
  {
   "cell_type": "code",
   "execution_count": null,
   "id": "df3ee855",
   "metadata": {},
   "outputs": [],
   "source": [
    "# 6.1 拓展：生成器版本的筛选函数 yield自动记录循环到哪里，下次运行时继续生成\n",
    "def my_filter(func,iterables):\n",
    "    for i in iterables:\n",
    "        if func(i):\n",
    "            yield i # 生成器，自动记录过滤到哪个，只在要求next时才生成1个i给你，时间换空间\n",
    "x = [1,2,3,4,5,6,7,8]\n",
    "gener = my_filter(is_even,x)\n",
    "try:\n",
    "    while True:\n",
    "        print(next(gener)) # 迭代器，每次运行，生成一个值\n",
    "except Exception as e:\n",
    "    print(e)"
   ]
  },
  {
   "cell_type": "markdown",
   "id": "6b8c7228",
   "metadata": {},
   "source": [
    "### Function 高级函数\n",
    "1. 高级函数的概念是使用函数作为参数 ，functools库，也叫函数工具库，其中不少函数就是高级函数\n",
    "2. 高级函数的使用是入门函数式编程的起点，在第一篇章理解函数本质后，就会理解何为高级函数\n",
    "3. 介绍partial偏函数，或者应该叫偏导数，换人话就是固定某个函数的部分参数，生成一个新的函数\n",
    "4. 介绍map函数，对每个元素使用一次函数，返回一个新容器\n",
    "5. 介绍reduce函数，卷积，让每次结果的值与容器内剩下的值持续计算，直至使用过整个容器中的值"
   ]
  },
  {
   "cell_type": "code",
   "execution_count": null,
   "id": "8703efef",
   "metadata": {},
   "outputs": [],
   "source": [
    "# 3. 偏函数 partial 固化某个参数，如下使用\n",
    "from functools import partial\n",
    "print(round(4.3333)) # 4\n",
    "round = partial(round,ndigits = 2)\n",
    "print(round(4.3333)) # 4.33"
   ]
  },
  {
   "cell_type": "code",
   "execution_count": null,
   "id": "3aa69230",
   "metadata": {},
   "outputs": [],
   "source": [
    "# 4. map(func,iterables)函数 对于所有的元素都操作一次xx函数 \n",
    "from math import *\n",
    "print(sin(1)) # 0.8414709848078965\n",
    "x = [1,2,3,4]\n",
    "list(map(sin,x)) \n",
    "# map的坑点1，无法对于被使用的函数提供参数，需要用partial指定\n",
    "# map的坑点2，迭代器是只能使用1次的哦，用完及毁灭"
   ]
  },
  {
   "cell_type": "code",
   "execution_count": null,
   "id": "35efe9e1",
   "metadata": {},
   "outputs": [],
   "source": [
    "# 5. reduce(func,iterables,initial)卷积函数 对于可迭代对象的元素指定一个函数一次性处理\n",
    "# 比如下面案例中的c容器是人名，下面的reduce，提取了 y 容器元素 的第一个切片字符串 和初始值指定的空字符串''一次处理\n",
    "from functools import reduce\n",
    "c = ['关羽','张飞','刘备','周瑜']\n",
    "initial = ''\n",
    "reduce(lambda x,y : x+y[0],c,initial)"
   ]
  },
  {
   "cell_type": "markdown",
   "id": "37d7c33a",
   "metadata": {},
   "source": [
    "### Function 递归理念\n",
    "###### 以一个案例理解何为递归 计算1,2,3,4,5 相乘的结果\n",
    "阶乘(5) = 5 * 阶乘(4)    \n",
    "阶乘(4) = 4 * 阶乘(3)    \n",
    "阶乘(3) = 3 * 阶乘(2)    \n",
    "阶乘(2) = 2 * 阶乘(1)   \n",
    "阶乘(1) = 1    \n",
    "\n",
    "###### 从上面可以用数学归纳法，得到 以下公式\n",
    "如果n=1，阶乘(n)=1    基本情况\n",
    "如果n>1，阶乘(n)=n*阶乘(n-1)  递归步骤  \n",
    "\n",
    "###### 递归的本质是 复制一个函数替自己处理分支叉\n",
    "基本情况（Base Case）：无需递归即可得到值 也是递归停止调用自身的地方           \n",
    "递归步骤（Recursive Step）：比基本情况复杂的情况，就要复制自己去处理子问题和子子问题，不断复制直至遇到基本情况       \n",
    "收敛条件:为了避免无限制的递归，必须保证每次递归都在接近基本情况       \n",
    "递归深度超过报错：通常python设置的是1000，超过就会抛出 RecursionError。       \n",
    "变更深度：如果确保系统有足够的栈空间可以使用，可以使用 sys 模块的 setrecursionlimit() 函数来增加这个限制。     \n",
    "栈：后进先出的数据结构，进程都有一个栈去记录自己子程序的活跃情况，带入到递归中，使用函数是第一个进入栈的，之后每次复制都会往里面增加，直至遇到基本情况后，栈就会从其中开始依次踢出复制的函数，第一个被踢掉的就是最后复制出来的函数，他遇到了基本情况，终止了复制并开始回去    "
   ]
  },
  {
   "cell_type": "code",
   "execution_count": null,
   "id": "8f16a3e6",
   "metadata": {},
   "outputs": [],
   "source": [
    "# 递归本质，自己调用自己，避免递归无限进行的方式，就是复制出的函数复制到一定程度，最终必须有一个值开始返回\n",
    "def 阶乘(n):\n",
    "    if n == 1:\n",
    "        s = 1\n",
    "    else:\n",
    "        s = n * 阶乘(n-1)\n",
    "    return s\n",
    "\n",
    "阶乘(5)"
   ]
  },
  {
   "cell_type": "markdown",
   "id": "74a68e44",
   "metadata": {},
   "source": [
    "###### 理解上面递归的本质后，我们测试一个递归算法寻找所有嵌套列表\n",
    "第一步 数学归纳法   \n",
    "判断列表内元素是不是list，是就要结构，不是就直接拿出来放到新列表   "
   ]
  },
  {
   "cell_type": "code",
   "execution_count": null,
   "id": "700c8cd3",
   "metadata": {},
   "outputs": [],
   "source": [
    "# 第二步 简化为代码\n",
    "x = [1,[2,3],[4,[5,6,('十','十一')]],[7,{'八','九'}]]\n",
    "y = [] # 只能在这里定义，否则每次递归（复制函数）都会刷新y的值\n",
    "def unlist(mylist,y):\n",
    "    \n",
    "    for element in mylist: # 再次进入这步时得确认对象是否可迭代，我判断的列表，集合，元组都是可迭代的，所以才能一次性结构全部\n",
    "        if isinstance(element,(list,set,tuple)): # isinstance执行多个类型判断，元组传递\n",
    "            unlist(element,y)\n",
    "        else:\n",
    "            y.append(element)\n",
    "    return y\n",
    "unlist(x,y)"
   ]
  },
  {
   "cell_type": "code",
   "execution_count": null,
   "id": "af7583de",
   "metadata": {},
   "outputs": [],
   "source": [
    "###### 递归还可以用于快速排序 其中会有对于时间复杂度的分析和解释 评估一个算法是否足够快速\n",
    "from IPython import display\n",
    "display.display(display.Image(r\"D:\\1-script\\3-PYTHON\\image存储jupyter在用的图片存放于此\\时间复杂度分析.jpg\",width=500, height=500))\n",
    "# https://blog.csdn.net/qq_51339192/article/details/120114285"
   ]
  },
  {
   "cell_type": "code",
   "execution_count": null,
   "id": "2fa63048",
   "metadata": {},
   "outputs": [],
   "source": [
    "######快速排序递归演示 时间复杂度为O(n log n) - O(n^2) \n",
    "def quicksort(arr):\n",
    "    if len(arr) <= 1:\n",
    "        return arr  # 基本情况：如果数组只有一个元素，就不需要排序\n",
    "    else:\n",
    "        pivot = arr[0]  # 选择列表中的第一个元素作为枢纽\n",
    "        less = [x for x in arr[1:] if x <= pivot]  # 所有小于等于枢纽的元素\n",
    "        greater = [x for x in arr[1:] if x > pivot]  # 所有大于枢纽的元素\n",
    "        return quicksort(less) + [pivot] + quicksort(greater)  # 递归排序并合并结果\n",
    "\n",
    "# 示例数组\n",
    "array = [10, 7, 8, 9, 1, 5]\n",
    "sorted_array = quicksort(array)\n",
    "print(sorted_array)"
   ]
  },
  {
   "cell_type": "markdown",
   "id": "a737e445",
   "metadata": {},
   "source": [
    "###### python自己的sort 使用 最坏情况下的时间复杂度为O(n log n)\n",
    "###### TimSort的排序算法。TimSort是一种混合稳定排序算法，由Tim Peters在2002年为Python设计。它是归并排序与插入排序的结合体，特别优化了在实际数据中常见的各种情况。"
   ]
  },
  {
   "cell_type": "code",
   "execution_count": null,
   "id": "3d776dae",
   "metadata": {},
   "outputs": [],
   "source": [
    "# 查看栈深度的方式\n",
    "import sys\n",
    "sys.getrecursionlimit()\n",
    "# 定义栈深度的方式\n",
    "sys.setrecursionlimit(1000)"
   ]
  },
  {
   "cell_type": "code",
   "execution_count": null,
   "id": "3b4b1564",
   "metadata": {},
   "outputs": [],
   "source": [
    "sys.getrecursionlimit()"
   ]
  },
  {
   "cell_type": "markdown",
   "id": "b5fb62ae",
   "metadata": {},
   "source": [
    "### Function 装饰器\n",
    "1. 特点在于不修改原始代码的前提下 增加新的功能\n",
    "2. 使用@标注法简化装饰器模式\n",
    "3. 使用内置装饰器 https://zhuanlan.zhihu.com/p/602458039"
   ]
  },
  {
   "cell_type": "code",
   "execution_count": null,
   "id": "f5713eb3",
   "metadata": {},
   "outputs": [],
   "source": [
    "# 1. 原始代码如下 我现在想要增加一个能力 但是不改变原始代码，说明代码指向的函数必须还是同名的\n",
    "def 面积(r):\n",
    "    return 2*3.14*r\n",
    "\n",
    "print(面积(3)) # 18.84"
   ]
  },
  {
   "cell_type": "code",
   "execution_count": null,
   "id": "9a7e494e",
   "metadata": {},
   "outputs": [],
   "source": [
    "# 2. 装饰器，接受函数，添加功能，返回函数\n",
    "def 增加面积能力(func): # func代表我要增加功能的函数\n",
    "\n",
    "    def new_func(r): # 这里的r是原始代码里面的同名参数 他还是用于提供半径用于计算面积\n",
    "        '''\n",
    "        于这里书写的内容自动被__doc__获取到成为魔术方法??的doc部分\n",
    "        这是个装饰器的产物函数，替换了\n",
    "\n",
    "        '''\n",
    "        value = func(r) # 先用原函数的能力完成原函数的操作\n",
    "        return round(value,1) # 这里就是增加的能力\n",
    "    \n",
    "    return new_func # 之前已经知道函数可以被返回 装饰完返回的当然还得是一个函数\n",
    "\n",
    "# 3. 使用装饰器 替换面积变量指向的函数地址\n",
    "面积 = 增加面积能力(面积)\n",
    "\n",
    "# 4. 在调用一次函数\n",
    "print(面积(3))  # 18.8\n"
   ]
  },
  {
   "cell_type": "code",
   "execution_count": null,
   "id": "808f90d5",
   "metadata": {},
   "outputs": [],
   "source": [
    "# 5. 整合上述的1-4，比较语句的新增程度\n",
    "\n",
    "# 新增语句装饰器部分\n",
    "def 增加面积能力(func): # func代表我要增加功能的函数\n",
    "\n",
    "    def new_func(r): # 这里的r是原始代码里面的同名参数 他还是用于提供半径用于计算面积\n",
    "        '''\n",
    "        于这里书写的内容自动被__doc__获取到成为魔术方法??的doc部分\n",
    "        这是个装饰器的产物函数，替换了原先的函数，导致它的信息不可通过魔术方法??读取到\n",
    "\n",
    "        '''\n",
    "        value = func(r) # 先用原函数的能力完成原函数的操作\n",
    "        return round(value,1) # 这里就是增加的能力\n",
    "    \n",
    "    return new_func # 之前已经知道函数可以被返回 装饰完返回的当然还得是一个函数\n",
    "\n",
    "# 原始语句\n",
    "def 面积(r):\n",
    "    return 2*3.14*r\n",
    "\n",
    "# 新增覆盖原始函数名称部分\n",
    "面积 = 增加面积能力(面积)\n",
    "\n",
    "# 原始语句\n",
    "print(面积(3)) # 18.8"
   ]
  },
  {
   "cell_type": "code",
   "execution_count": null,
   "id": "ce228dd0",
   "metadata": {},
   "outputs": [],
   "source": [
    "# 6. @标注法简化装饰器语句 其实能简化的只有 上面的 # 新增覆盖原始函数名称部分 但是很推荐这种写法\n",
    "from functools import wraps\n",
    "\n",
    "# 新增语句装饰器部分\n",
    "def 增加面积能力(func): # func代表我要增加功能的函数\n",
    "    @wraps(func) # func和上面必须同名 这句话不是必备的，他的用途是保留下原函数的信息\n",
    "    # def new_func(r): # 这里的r是原始代码里面的同名参数 他还是用于提供半径用于计算面积\n",
    "    def new_func(*args, **kwargs): # 进阶写法，保证原函数参数无论怎么改变，变成几个，都可以保证接收和原函数一样的参数\n",
    "        '''\n",
    "        于这里书写的内容自动被__doc__获取到成为魔术方法??的doc部分\n",
    "        这是个装饰器的产物函数，替换了后比较难看到原始的信息\n",
    "        但是上面的语句 @wraps(func) 是用于保留原始函数 func 的一些属性，比如它的名字、文档字符串等。\n",
    "\n",
    "        '''\n",
    "        value = func(*args, **kwargs) # 先用原函数的能力完成原函数的操作\n",
    "        return round(value,1) # 这里就是增加的能力\n",
    "    \n",
    "    return new_func # 之前已经知道函数可以被返回 装饰完返回的当然还得是一个函数\n",
    "\n",
    "# 原始语句\n",
    "@增加面积能力\n",
    "def 面积(r,t):\n",
    "    return 2*3.14*r*t\n",
    "\n",
    "# # 新增覆盖原始函数名称部分 标注法省略这个语句\n",
    "# 面积 = 增加面积能力(面积)\n",
    "\n",
    "# 原始语句\n",
    "print(面积(3,4)) # 18.8"
   ]
  },
  {
   "cell_type": "code",
   "execution_count": 1,
   "id": "10f927d8",
   "metadata": {},
   "outputs": [],
   "source": [
    "# 6.1 测试下魔术方法下的函数信息 在隐藏上面的  @wraps(func)  是否会发生变化\n",
    "property??"
   ]
  },
  {
   "cell_type": "code",
   "execution_count": null,
   "id": "5b783f62",
   "metadata": {},
   "outputs": [],
   "source": [
    "# 6.2 等价于魔术方法的获取函数信息 \n",
    "import inspect\n",
    "inspect.getsource(面积)  "
   ]
  },
  {
   "cell_type": "markdown",
   "id": "ee8749a6",
   "metadata": {},
   "source": [
    "### 谷歌的google cloud function 云函数\n",
    "######  安装库 functions-framework"
   ]
  },
  {
   "cell_type": "code",
   "execution_count": null,
   "id": "0b6af9cc",
   "metadata": {},
   "outputs": [],
   "source": [
    "# 清华镜像安装 functions-framework 用于创建轻量级的 Python 函数，这些函数可以响应 HTTP 请求或云事件（Cloud Events）\n",
    "!pip install  -i https://pypi.tuna.tsinghua.edu.cn/simple functions-framework"
   ]
  },
  {
   "cell_type": "markdown",
   "id": "dc0e9c46",
   "metadata": {},
   "source": [
    "### 谷歌的google cloud function 云函数\n",
    "######  functions_framework 的使用\n",
    "1. 测试本地开发环境中启动和测试符合 Functions Framework API 规范的 Python 函数，在google cloud function正式部署前的测试\n",
    "2. 部署到cloudfunction是需要收费的 但只是在本地运行测试没有费用可言\n",
    "3. 理解我们在做什么，shell命令窗口/Jupyter魔术命令运行这个函数，计算机将成为一个服务器，可以处理HTTP请求，注意一般绑定了localhost使用，外部无法访问，也请尽量不要允许外部访问，涉及到复杂的安全机制，尽管有隧道减轻这种复杂\n",
    "4. 补充服务端如何查看请求信息\n",
    "5. 提供了一个能处理get/post请求的函数，可以接收表单数据/json格式的数据，并可以进一步执行处理，成功后返回json格式的数据和状态码（可自定义）     "
   ]
  },
  {
   "cell_type": "markdown",
   "id": "071860df",
   "metadata": {},
   "source": [
    "###### 3. 了解我们在做什么\n",
    "（1）使用谷歌开源的functions_framework，且仅仅使用其中的http函数（装饰器），通过functions_framework.http??去访问原始代码     \n",
    "（2）装饰器的用途是把一个普通的python函数变为一个可以处理requests的HTTP函数    \n",
    "（3）编写完成后 我们需要使用Shell命令窗口/Jupyter魔术命令运行这个函数    \n",
    "语句是：functions-framework --target=hello_http --source D:\\1-script\\3-PYTHON\\python实战篇具体案例制作\\main.py  \n",
    "默认查找当前程序运行目录下的main.py文件作为函数存放的文件去运行source用于切换函数存放地址  target是指代这个程序中的起始点是哪个"
   ]
  },
  {
   "cell_type": "markdown",
   "id": "46471c03",
   "metadata": {},
   "source": [
    "###### 4. 补充服务端如何查看请求信息\n",
    "1. 在 Flask 框架中，request 是一个全局对象，代表当前请求的 HTTP 请求对象；在定义的函数中，就是入参的req（详见5示例）\n",
    "2. 它包含了客户端发出的请求信息，例如 URL、HTTP 头、请求方法（GET、POST 等）、数据（表单数据、JSON 数据等）。\n",
    "3. 学习HTTP&Requets时我们已知作为客户端如何发起请求和如何接受响应，对于我们自己发起的请求，我们有如下方法拿到信息    \n",
    "发起请求的对象：response.request，这是一个PreparedRequest 对象      \n",
    "请求的头部：response.request.headers   \n",
    "请求的身体：response.request.body   \n",
    "请求的方法：response.request.method   \n",
    "请求的地址：response.request.url   \n",
    "4. 现在学习作为服务端如何查看请求的各类信息   \n",
    "这里的req是入参获取的，是Flask 提供的 request 对象         \n",
    "request.args:  URL 查询字符串的一个不可变字典（ImmutableMultiDict），通常用于获取 GET 请求的查询参数。   \n",
    "request.form:  表单数据的一个不可变字典，用于获取 POST 或 PUT 请求中的表单数据。   \n",
    "request.json   或 request.get_json(): 解析 JSON 数据并以 Python 字典的形式返回，通常用于处理 POST 或 PUT 请求中的 JSON 数据。   \n",
    "request.data:  请求的数据部分，是一个字符串，包含了发送到服务器的原始数据。   \n",
    "request.files: 用于访问上传的文件。   \n",
    "request.method: 当前请求的 HTTP 方法，例如 \"GET\" 或 \"POST\"。   \n",
    "request.headers: 请求的 HTTP 头部。   "
   ]
  },
  {
   "cell_type": "code",
   "execution_count": null,
   "id": "9b06907f",
   "metadata": {},
   "outputs": [],
   "source": [
    "# 5. 示例 \n",
    "# 处理不同方法的请求：判断req.method属性返回的值是否是GET/POST，不是返回报错405\n",
    "# 处理不同的数据类型：content_type请求中带的标头 告知服务端如何解析传递的数据\n",
    "#                     get只有params参数，用于指示服务端如何处理查询，对应的是req.args\n",
    "#                     post请求会有data参数，输入字典时指定标头为application/x-www-form-urlencoded，对应的是req.form\n",
    "#                     post请求会有json参数，能序列化json字符串指定标头为application/json，对应的是req.get_json()\n",
    "#                     post请求会有files参数，文件类指定标头为multipart/form-data，对应的是req.files()\n",
    "import functions_framework\n",
    "from flask import jsonify # 用于自动生成一个json数据结构响应给请求方\n",
    "import json\n",
    "\n",
    "@functions_framework.http\n",
    "def hello_http(req):\n",
    "    # 处理GET请求\n",
    "    if req.method == 'GET':\n",
    "        # 获取URL参数\n",
    "        args = req.args\n",
    "        # 以JSON形式返回URL参数\n",
    "        return jsonify(args), 200\n",
    "\n",
    "    # 处理POST请求\n",
    "    elif req.method == 'POST':\n",
    "        # 根据请求的Content-Type处理数据\n",
    "        if req.content_type == 'application/json':\n",
    "            # 尝试从请求中获取JSON数据\n",
    "            request_data = req.get_json(silent=True) # 不报错中断程序，静默返回N\n",
    "            \n",
    "            # 如果request_data是None，说明请求没有包含JSON或者包含的JSON格式有误\n",
    "            if request_data is None:\n",
    "                # 返回400错误码和错误信息\n",
    "                return 'Bad Request: JSON data is malformed or not provided', 400\n",
    "            \n",
    "            # 将request_data（一个字典）转换为字符串\n",
    "            request_data_str = json.dumps(request_data)\n",
    "            \n",
    "            # 写入文件（请确保这个文件路径在您的环境中是可写的）\n",
    "            try:\n",
    "                with open(r\"C:\\Users\\yaoyan\\Downloads\\response_content.txt\", 'w') as f:\n",
    "                    f.write(request_data_str)\n",
    "            except Exception as e:\n",
    "                # 如果出现异常，返回500错误码和错误信息\n",
    "                return f'Internal Server Error: {str(e)}', 500\n",
    "            \n",
    "            # 如果接受成功并实现了写入\n",
    "            return jsonify(request_data), 200\n",
    "        \n",
    "        elif req.content_type == 'application/x-www-form-urlencoded':\n",
    "            # 获取表单数据\n",
    "            form_data = req.form\n",
    "            return jsonify(form_data), 200\n",
    "        \n",
    "        elif req.content_type.startswith('multipart/form-data'): # 多表单标头示例：'Content-Type': 'multipart/form-data; boundary=adb5e552830106503ceb224ea918023f'\n",
    "            # 处理文件上传的情况\n",
    "            # 获取文件对象\n",
    "            file = req.files.get('file') # 这里假设HTML表单中的文件字段名为'file'\n",
    "            if file:\n",
    "                # 可以保存文件到服务器的文件系统中\n",
    "                # file.save(os.path.join('/path/to/the/uploads', secure_filename(file.filename)))\n",
    "                \n",
    "                # 或者进行其他处理...\n",
    "\n",
    "                # 操作完成后返回成功信息\n",
    "                return 'Success', 200\n",
    "            else:\n",
    "                # 如果没有文件部分，返回400错误码\n",
    "                return 'Bad Request: No file part in the request', 400\n",
    "        else:\n",
    "            # 如果Content-Type不是支持的类型，返回415错误码\n",
    "            return 'Unsupported Media Type', 415\n",
    "        \n",
    "    else:\n",
    "        # 如果既不是GET也不是POST请求，返回405方法不允许错误码\n",
    "        return 'Method Not Allowed', 405"
   ]
  },
  {
   "cell_type": "markdown",
   "id": "1c8b3479",
   "metadata": {},
   "source": [
    "#### 5.1 示例在Shell中 环境中如何调试\n",
    "1. 两种方式，一种是直接在windows的命令行去运行也行，另一种是去pycharm的Terminal中去运行，语句如下         \n",
    "2. python -m functions_framework --target=hello_http --source=D:\\1-script\\3-PYTHON\\python实战篇具体案例制作\\main.py --debug     \n",
    "&nbsp;（1）前面是运行的包是啥；后面是运行时提供的参数，格式是：  --参数名=参数值 前后都有一个空格    \n",
    "&nbsp;（2）target用于指示整个函数的入口是什么 也就是示例中定义的def hello_http中的  hello_http          \n",
    "&nbsp;（3）source用于指示path，你的main.py放在哪里，就去哪里找 带双引号或者不带都可以 也可以不用防转义写r          \n",
    "&nbsp;（4）--debug是用于开启调试模式，自动检查  main.py 等代码文件是否变更，自动重载 ，请提供更加详细的报错           \n",
    "3. 输入语句后，自动进入监听装填，可以发起请求尝试"
   ]
  },
  {
   "cell_type": "markdown",
   "id": "0fc50ba4",
   "metadata": {},
   "source": [
    "#### 5.2 示例在Pycharm IDE环境中如何调试\n",
    "1. 需要使用module的命令行来架起监视 而非打开main.py文件直接运行       \n",
    "2. 配置具体方式：       \n",
    "&nbsp;（1）顶部栏-RUN-EditConfig打开窗口选项       \n",
    "&nbsp;（2）左上角+号，选择python，增加新的运行项，如果是flask应该选flask相关       \n",
    "&nbsp;（3）默认值的Script path 改 module name 输入：functions_framework 或者搜索后选择 先确保安装了包       \n",
    "&nbsp;（4）Parameters 输入： --target=hello_http --source=D:\\1-script\\3-PYTHON\\python实战篇具体案例制作\\main.py        \n",
    "&nbsp;（5）其他项目不动，点击apply 点击ok       \n",
    "&nbsp;（6）如果需要知道更多，底部栏Terminal输入： python -m functions_framework --help  展示全部可用的列表       \n",
    "&nbsp;（7）此shell命令更新到最新包：pip install --upgrade functions-framework  \n",
    "3. 配置完成后，RUN-DEBUG 或者shift-F9启动 如果打了断点 F7/F8逐行运行，要进入函数内部用H7\n",
    "4. 这里面 --target=hello_http --source=D:\\1-script\\3-PYTHON\\python实战篇具体案例制作\\main.py 可以变成：   \n",
    " --target=hello_http --source=D:\\1-script\\3-PYTHON\\python实战篇具体案例制作\\main.py  --debug 但是我的pycharm会报错，目前原因未知，可能是不支持，但是命令行是支持的，也可能这就是差别的一种，不能进入--debug模式无法自动检测代码变动并为你刷新重启脚本，所以下面有个watchdog的案例"
   ]
  },
  {
   "cell_type": "markdown",
   "id": "4a72fb37",
   "metadata": {},
   "source": [
    "#### 5.3 Shell启动监听和Pycharm IDE 启动监听的差别：逐行运行代码的方式    \n",
    "1. 只有一个差别，那就是能否逐行运行代码      \n",
    "2. 逐行运行的方式：   \n",
    "&nbsp;（1）配置完成后，debug之前先打开 --source指向的文件 在里面的def语句下面打断点    \n",
    "&nbsp;（2）然后debug运行，发起请求，请求后就会发现 F7/F8逐行运行 可用    \n",
    "&nbsp;（3）逐行运行看到参数的值，跑完就会得到值，不跑完请求是不会得到完整的响应的     "
   ]
  },
  {
   "cell_type": "code",
   "execution_count": null,
   "id": "17453773",
   "metadata": {},
   "outputs": [],
   "source": [
    "# 5.2的配置图补充\n",
    "from IPython.display import display,Image\n",
    "display(Image(r\"D:\\1-script\\3-PYTHON\\image存储jupyter在用的图片存放于此\\PYCHARM IDE运行 functions-framework前的配置.png\",width = 500,height =500))"
   ]
  },
  {
   "cell_type": "code",
   "execution_count": null,
   "id": "f12d81fb",
   "metadata": {},
   "outputs": [],
   "source": [
    "# 5.4 上述理解后 使用下面的语句进行请求测试\n",
    "import requests\n",
    "url = 'http://localhost:8080'\n",
    "dict_json = {'1':'2'}\n",
    "response = requests.post(url = url,json = dict_json)"
   ]
  },
  {
   "cell_type": "code",
   "execution_count": null,
   "id": "cf65f499",
   "metadata": {},
   "outputs": [],
   "source": [
    "import requests\n",
    "url = 'http://localhost:8080'\n",
    "dict_json = {'1':'2'}\n",
    "response = requests.get(url = url,params = dict_json)"
   ]
  },
  {
   "cell_type": "markdown",
   "id": "88c0264a",
   "metadata": {},
   "source": [
    "对于Python项目，您可以使用watchdog这个Python库来实现热重载。watchdog是一个文件系统监控器，它可以监控文件系统的变化，并且可以跨平台工作。您可以将其与functions-framework结合使用，以实现在本地开发环境中的热重载功能。\n",
    "\n",
    "以下是如何使用watchdog来监控Python文件变化并自动重启functions-framework的一个简单示例：\n",
    "\n",
    "首先，您需要安装watchdog和functions-framework：\n",
    "\n",
    "sh\n",
    "复制\n",
    "pip install watchdog functions-framework\n",
    "然后，您可以创建一个Python脚本，比如叫watcher.py，来启动watchdog观察器和functions-framework：\n",
    "\n",
    "python\n",
    "复制\n",
    "import subprocess\n",
    "import time\n",
    "from watchdog.observers import Observer\n",
    "from watchdog.events import FileSystemEventHandler\n",
    "\n",
    "class ChangeHandler(FileSystemEventHandler):\n",
    "    def __init__(self):\n",
    "        self.restart()\n",
    "\n",
    "    def restart(self):\n",
    "        if hasattr(self, 'process'):\n",
    "            self.process.kill()\n",
    "        self.process = subprocess.Popen(['functions-framework', '--target', 'your_function', '--debug'], shell=True)\n",
    "\n",
    "    def on_any_event(self, event):\n",
    "        if event.is_directory:\n",
    "            return\n",
    "        if event.src_path.endswith('.py'):\n",
    "            self.restart()\n",
    "\n",
    "if __name__ == \"__main__\":\n",
    "    path = '.'  # 指定要监控的目录\n",
    "    event_handler = ChangeHandler()\n",
    "    observer = Observer()\n",
    "    observer.schedule(event_handler, path, recursive=True)\n",
    "    observer.start()\n",
    "    try:\n",
    "        while True:\n",
    "            time.sleep(1)\n",
    "    except KeyboardInterrupt:\n",
    "        observer.stop()\n",
    "    observer.join()\n",
    "上述脚本会启动functions-framework，并监控当前目录下的所有Python文件。一旦检测到文件变化，它会重启functions-framework。\n",
    "\n",
    "确保将your_function替换为您的实际函数名称。\n",
    "\n",
    "最后，运行watcher.py：\n",
    "\n",
    "sh\n",
    "复制\n",
    "python watcher.py"
   ]
  },
  {
   "cell_type": "code",
   "execution_count": null,
   "id": "13ad8dbf",
   "metadata": {},
   "outputs": [],
   "source": [
    "# 补充获取函数变量的方式\n",
    "def function_example():\n",
    "    local_var = 10\n",
    "    print(locals())  # 打印局部变量表，{'local_var': 10}\n",
    "    local_var += 1   # 修改局部变量\n",
    "    print(locals())  # 打印修改后的局部变量表，{'local_var': 11}\n",
    "\n",
    "function_example()"
   ]
  }
 ],
 "metadata": {
  "kernelspec": {
   "display_name": "Python 3 (ipykernel)",
   "language": "python",
   "name": "python3"
  },
  "language_info": {
   "codemirror_mode": {
    "name": "ipython",
    "version": 3
   },
   "file_extension": ".py",
   "mimetype": "text/x-python",
   "name": "python",
   "nbconvert_exporter": "python",
   "pygments_lexer": "ipython3",
   "version": "3.10.9"
  }
 },
 "nbformat": 4,
 "nbformat_minor": 5
}
